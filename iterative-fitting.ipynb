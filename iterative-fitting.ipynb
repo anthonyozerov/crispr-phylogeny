{
 "cells": [
  {
   "cell_type": "code",
   "execution_count": 1,
   "id": "7ce90d17",
   "metadata": {},
   "outputs": [],
   "source": [
    "from simulation import simulate_lineage\n",
    "import numpy as np\n",
    "import sys\n",
    "#sys.path.append('../lateral')\n",
    "%load_ext autoreload\n",
    "%autoreload 2"
   ]
  },
  {
   "cell_type": "code",
   "execution_count": 5,
   "id": "0fae00c5",
   "metadata": {
    "scrolled": false
   },
   "outputs": [
    {
     "data": {
      "text/html": [
       "<div>\n",
       "<style scoped>\n",
       "    .dataframe tbody tr th:only-of-type {\n",
       "        vertical-align: middle;\n",
       "    }\n",
       "\n",
       "    .dataframe tbody tr th {\n",
       "        vertical-align: top;\n",
       "    }\n",
       "\n",
       "    .dataframe thead th {\n",
       "        text-align: right;\n",
       "    }\n",
       "</style>\n",
       "<table border=\"1\" class=\"dataframe\">\n",
       "  <thead>\n",
       "    <tr style=\"text-align: right;\">\n",
       "      <th></th>\n",
       "      <th>0</th>\n",
       "      <th>1</th>\n",
       "      <th>2</th>\n",
       "      <th>3</th>\n",
       "      <th>4</th>\n",
       "      <th>5</th>\n",
       "    </tr>\n",
       "    <tr>\n",
       "      <th>name</th>\n",
       "      <th></th>\n",
       "      <th></th>\n",
       "      <th></th>\n",
       "      <th></th>\n",
       "      <th></th>\n",
       "      <th></th>\n",
       "    </tr>\n",
       "  </thead>\n",
       "  <tbody>\n",
       "    <tr>\n",
       "      <th>00</th>\n",
       "      <td>0</td>\n",
       "      <td>1</td>\n",
       "      <td>2</td>\n",
       "      <td>3</td>\n",
       "      <td>4</td>\n",
       "      <td>5</td>\n",
       "    </tr>\n",
       "    <tr>\n",
       "      <th>0100000</th>\n",
       "      <td>0</td>\n",
       "      <td>1</td>\n",
       "      <td>2</td>\n",
       "      <td>3</td>\n",
       "      <td>4</td>\n",
       "      <td>57</td>\n",
       "    </tr>\n",
       "    <tr>\n",
       "      <th>0100100</th>\n",
       "      <td>0</td>\n",
       "      <td>1</td>\n",
       "      <td>2</td>\n",
       "      <td>3</td>\n",
       "      <td>4</td>\n",
       "      <td>57</td>\n",
       "    </tr>\n",
       "    <tr>\n",
       "      <th>0100110000</th>\n",
       "      <td>0</td>\n",
       "      <td>1</td>\n",
       "      <td>2</td>\n",
       "      <td>3</td>\n",
       "      <td>4</td>\n",
       "      <td>57</td>\n",
       "    </tr>\n",
       "    <tr>\n",
       "      <th>01001100010</th>\n",
       "      <td>0</td>\n",
       "      <td>1</td>\n",
       "      <td>2</td>\n",
       "      <td>3</td>\n",
       "      <td>4</td>\n",
       "      <td>57</td>\n",
       "    </tr>\n",
       "    <tr>\n",
       "      <th>...</th>\n",
       "      <td>...</td>\n",
       "      <td>...</td>\n",
       "      <td>...</td>\n",
       "      <td>...</td>\n",
       "      <td>...</td>\n",
       "      <td>...</td>\n",
       "    </tr>\n",
       "    <tr>\n",
       "      <th>1001111100</th>\n",
       "      <td>0</td>\n",
       "      <td>234</td>\n",
       "      <td>2</td>\n",
       "      <td>51</td>\n",
       "      <td>78</td>\n",
       "      <td>5</td>\n",
       "    </tr>\n",
       "    <tr>\n",
       "      <th>10011111010</th>\n",
       "      <td>0</td>\n",
       "      <td>234</td>\n",
       "      <td>2</td>\n",
       "      <td>51</td>\n",
       "      <td>78</td>\n",
       "      <td>5</td>\n",
       "    </tr>\n",
       "    <tr>\n",
       "      <th>10011111011</th>\n",
       "      <td>0</td>\n",
       "      <td>234</td>\n",
       "      <td>2</td>\n",
       "      <td>51</td>\n",
       "      <td>78</td>\n",
       "      <td>5</td>\n",
       "    </tr>\n",
       "    <tr>\n",
       "      <th>10011111100</th>\n",
       "      <td>0</td>\n",
       "      <td>1</td>\n",
       "      <td>2</td>\n",
       "      <td>51</td>\n",
       "      <td>78</td>\n",
       "      <td>5</td>\n",
       "    </tr>\n",
       "    <tr>\n",
       "      <th>10011111101</th>\n",
       "      <td>0</td>\n",
       "      <td>1</td>\n",
       "      <td>2</td>\n",
       "      <td>51</td>\n",
       "      <td>78</td>\n",
       "      <td>5</td>\n",
       "    </tr>\n",
       "  </tbody>\n",
       "</table>\n",
       "<p>86 rows × 6 columns</p>\n",
       "</div>"
      ],
      "text/plain": [
       "             0    1  2   3   4   5\n",
       "name                              \n",
       "00           0    1  2   3   4   5\n",
       "0100000      0    1  2   3   4  57\n",
       "0100100      0    1  2   3   4  57\n",
       "0100110000   0    1  2   3   4  57\n",
       "01001100010  0    1  2   3   4  57\n",
       "...         ..  ... ..  ..  ..  ..\n",
       "1001111100   0  234  2  51  78   5\n",
       "10011111010  0  234  2  51  78   5\n",
       "10011111011  0  234  2  51  78   5\n",
       "10011111100  0    1  2  51  78   5\n",
       "10011111101  0    1  2  51  78   5\n",
       "\n",
       "[86 rows x 6 columns]"
      ]
     },
     "execution_count": 5,
     "metadata": {},
     "output_type": "execute_result"
    }
   ],
   "source": [
    "slow_guides = ['AGCTGCTTAGGGCGCAGCCT', 'CTCCTTGCGTTGACCCGCTT', 'TATTGCCTCTTAATCGTCTT']\n",
    "medium_guides = ['AATCCCTAGTAGATTAGCCT', 'CACAGAACTTTATGACGATA', 'TTAAGTTTGAGCTCGCGCAA']\n",
    "fast_guides = ['TAATTCCGGACGAAATCTTG', 'CTTCCACGGCTCTAGTACAT', 'CCTCCCGTAGTGTTGAGTCA']\n",
    "cassette_sites = slow_guides+medium_guides\n",
    "lineage, Q = simulate_lineage(cassette_sites=cassette_sites, num_init_cells=2, init_death_prob=0.1,\n",
    "                     init_repr_prob=0.75, cancer_prob=1e-3, tree_depth=10)\n",
    "\n",
    "from conversion_utils import networkx_to_ete, get_ete_cm\n",
    "etetree = networkx_to_ete(lineage)\n",
    "cm = get_ete_cm(etetree)\n",
    "cm"
   ]
  },
  {
   "cell_type": "code",
   "execution_count": 6,
   "id": "e4bea2da",
   "metadata": {
    "scrolled": true
   },
   "outputs": [
    {
     "data": {
      "text/html": [
       "<div>\n",
       "<style scoped>\n",
       "    .dataframe tbody tr th:only-of-type {\n",
       "        vertical-align: middle;\n",
       "    }\n",
       "\n",
       "    .dataframe tbody tr th {\n",
       "        vertical-align: top;\n",
       "    }\n",
       "\n",
       "    .dataframe thead th {\n",
       "        text-align: right;\n",
       "    }\n",
       "</style>\n",
       "<table border=\"1\" class=\"dataframe\">\n",
       "  <thead>\n",
       "    <tr style=\"text-align: right;\">\n",
       "      <th></th>\n",
       "      <th>0</th>\n",
       "      <th>1</th>\n",
       "      <th>2</th>\n",
       "      <th>3</th>\n",
       "      <th>4</th>\n",
       "      <th>5</th>\n",
       "    </tr>\n",
       "  </thead>\n",
       "  <tbody>\n",
       "    <tr>\n",
       "      <th>0</th>\n",
       "      <td>0</td>\n",
       "      <td>1</td>\n",
       "      <td>2</td>\n",
       "      <td>3</td>\n",
       "      <td>4</td>\n",
       "      <td>5</td>\n",
       "    </tr>\n",
       "    <tr>\n",
       "      <th>1</th>\n",
       "      <td>0</td>\n",
       "      <td>1</td>\n",
       "      <td>2</td>\n",
       "      <td>3</td>\n",
       "      <td>4</td>\n",
       "      <td>57</td>\n",
       "    </tr>\n",
       "    <tr>\n",
       "      <th>2</th>\n",
       "      <td>0</td>\n",
       "      <td>1</td>\n",
       "      <td>2</td>\n",
       "      <td>3</td>\n",
       "      <td>4</td>\n",
       "      <td>57</td>\n",
       "    </tr>\n",
       "    <tr>\n",
       "      <th>3</th>\n",
       "      <td>0</td>\n",
       "      <td>1</td>\n",
       "      <td>2</td>\n",
       "      <td>3</td>\n",
       "      <td>4</td>\n",
       "      <td>57</td>\n",
       "    </tr>\n",
       "    <tr>\n",
       "      <th>4</th>\n",
       "      <td>0</td>\n",
       "      <td>1</td>\n",
       "      <td>2</td>\n",
       "      <td>3</td>\n",
       "      <td>4</td>\n",
       "      <td>57</td>\n",
       "    </tr>\n",
       "    <tr>\n",
       "      <th>...</th>\n",
       "      <td>...</td>\n",
       "      <td>...</td>\n",
       "      <td>...</td>\n",
       "      <td>...</td>\n",
       "      <td>...</td>\n",
       "      <td>...</td>\n",
       "    </tr>\n",
       "    <tr>\n",
       "      <th>81</th>\n",
       "      <td>0</td>\n",
       "      <td>234</td>\n",
       "      <td>2</td>\n",
       "      <td>51</td>\n",
       "      <td>78</td>\n",
       "      <td>5</td>\n",
       "    </tr>\n",
       "    <tr>\n",
       "      <th>82</th>\n",
       "      <td>0</td>\n",
       "      <td>234</td>\n",
       "      <td>2</td>\n",
       "      <td>51</td>\n",
       "      <td>78</td>\n",
       "      <td>5</td>\n",
       "    </tr>\n",
       "    <tr>\n",
       "      <th>83</th>\n",
       "      <td>0</td>\n",
       "      <td>234</td>\n",
       "      <td>2</td>\n",
       "      <td>51</td>\n",
       "      <td>78</td>\n",
       "      <td>5</td>\n",
       "    </tr>\n",
       "    <tr>\n",
       "      <th>84</th>\n",
       "      <td>0</td>\n",
       "      <td>1</td>\n",
       "      <td>2</td>\n",
       "      <td>51</td>\n",
       "      <td>78</td>\n",
       "      <td>5</td>\n",
       "    </tr>\n",
       "    <tr>\n",
       "      <th>85</th>\n",
       "      <td>0</td>\n",
       "      <td>1</td>\n",
       "      <td>2</td>\n",
       "      <td>51</td>\n",
       "      <td>78</td>\n",
       "      <td>5</td>\n",
       "    </tr>\n",
       "  </tbody>\n",
       "</table>\n",
       "<p>86 rows × 6 columns</p>\n",
       "</div>"
      ],
      "text/plain": [
       "    0    1  2   3   4   5\n",
       "0   0    1  2   3   4   5\n",
       "1   0    1  2   3   4  57\n",
       "2   0    1  2   3   4  57\n",
       "3   0    1  2   3   4  57\n",
       "4   0    1  2   3   4  57\n",
       ".. ..  ... ..  ..  ..  ..\n",
       "81  0  234  2  51  78   5\n",
       "82  0  234  2  51  78   5\n",
       "83  0  234  2  51  78   5\n",
       "84  0    1  2  51  78   5\n",
       "85  0    1  2  51  78   5\n",
       "\n",
       "[86 rows x 6 columns]"
      ]
     },
     "execution_count": 6,
     "metadata": {},
     "output_type": "execute_result"
    }
   ],
   "source": [
    "true_names = cm.index\n",
    "new_names = np.arange(0, len(cm.index))\n",
    "cm.index = new_names\n",
    "cm"
   ]
  },
  {
   "cell_type": "code",
   "execution_count": 7,
   "id": "642cc641",
   "metadata": {
    "scrolled": true
   },
   "outputs": [],
   "source": [
    "from scipy.optimize import minimize\n",
    "\n",
    "def get_ancestors(lca):\n",
    "    ancestors = [lca]\n",
    "    for ancestor in ancestors:\n",
    "        for i in range(len(ancestor)):\n",
    "            if ancestor[i] != i:\n",
    "                new_ancestor = ancestor.copy()\n",
    "                new_ancestor[i] = i\n",
    "                ancestors += [new_ancestor]\n",
    "        ancestors = list(np.unique(np.array(ancestors), axis=0))\n",
    "    \n",
    "    return ancestors\n",
    "\n",
    "from scipy.linalg import expm\n",
    "def P(t,Q):\n",
    "    return expm(Q*t)\n",
    "\n",
    "from math import exp, log\n",
    "def rates_to_prob(rates, t):\n",
    "    logprob = 0\n",
    "    for rate in rates:\n",
    "        if rate<=0: logprob += -(-rate) * t\n",
    "        else: logprob += log(1-exp(-rate * t))\n",
    "    return logprob\n",
    "\n",
    "#TODO: figure out how to add the probabilities in log space in a numerically stable way\n",
    "# right now non-LCA ancestors are not being taken into account\n",
    "def l(t, x, y, ancestors, Q, a_prior=None):\n",
    "    #Pt = P(t,Q)\n",
    "    logprob = 0\n",
    "    OVERFLOW_DIST = 10000\n",
    "    #print(t)\n",
    "    lca = ancestors[0]\n",
    "    logprobs = []\n",
    "    for ancestor in ancestors:\n",
    "        prior_prob = a_prior[np.sum(lca!=ancestor)] if a_prior is not None else 1\n",
    "        #print(t)\n",
    "        x_logprob = rates_to_prob(Q[ancestor,x],t)\n",
    "        y_logprob = rates_to_prob(Q[ancestor,y],t)\n",
    "        #print(x_logprob+y_logprob)\n",
    "        to_add = x_logprob+y_logprob+log(prior_prob)\n",
    "        #print(to_add)\n",
    "        logprobs.append(to_add)\n",
    "    logprobs = np.array(logprobs)\n",
    "    #normalizer = min(logprobs)\n",
    "    #logprobs -= normalizer\n",
    "    #print(logprobs)\n",
    "    return -logprobs[0]\n",
    "\n",
    "def get_dist_est(Q, x, y, all_a=True, a_prior=None):\n",
    "    \n",
    "    n_sites = len(x)\n",
    "    lca = (x!=y) * np.arange(n_sites) + (x==y) * x\n",
    "    ancestors=[lca]\n",
    "    if all_a: ancestors = get_ancestors(lca)\n",
    "    \n",
    "    return minimize(l, 0.0002, args=(x,y,ancestors,Q,a_prior), bounds=[(0.0001,1000)], method='Powell').x[0]\n",
    "# x_seq = cm_np[2,:]\n",
    "# y_seq = cm_np[3,:]\n",
    "# print(x_seq)\n",
    "# print(y_seq)\n",
    "# print(get_dist_est(Q,x_seq,y_seq))"
   ]
  },
  {
   "cell_type": "code",
   "execution_count": 8,
   "id": "6d152936",
   "metadata": {},
   "outputs": [],
   "source": [
    "from tqdm.notebook import tqdm\n",
    "def get_dm(cm_np, Q, all_a = True, a_prior=None):\n",
    "    \n",
    "    n_species = len(cm_np[:,0])\n",
    "    dm = np.zeros((n_species,n_species))\n",
    "    for x in tqdm(range(n_species), leave=False):\n",
    "        for y in tqdm(range(n_species),leave=False):\n",
    "            x_seq = cm_np[x,:]\n",
    "            y_seq = cm_np[y,:]\n",
    "            if x == y or (x_seq==y_seq).all():\n",
    "                dm[x,y]=0\n",
    "            else: dm[x,y]=get_dist_est(Q,x_seq,y_seq,all_a=all_a)#dm[x,y]=1#\n",
    "    return dm"
   ]
  },
  {
   "cell_type": "code",
   "execution_count": 10,
   "id": "ec2a516c",
   "metadata": {},
   "outputs": [
    {
     "data": {
      "application/vnd.jupyter.widget-view+json": {
       "model_id": "",
       "version_major": 2,
       "version_minor": 0
      },
      "text/plain": [
       "  0%|          | 0/86 [00:00<?, ?it/s]"
      ]
     },
     "metadata": {},
     "output_type": "display_data"
    },
    {
     "data": {
      "application/vnd.jupyter.widget-view+json": {
       "model_id": "",
       "version_major": 2,
       "version_minor": 0
      },
      "text/plain": [
       "  0%|          | 0/86 [00:00<?, ?it/s]"
      ]
     },
     "metadata": {},
     "output_type": "display_data"
    },
    {
     "data": {
      "application/vnd.jupyter.widget-view+json": {
       "model_id": "",
       "version_major": 2,
       "version_minor": 0
      },
      "text/plain": [
       "  0%|          | 0/86 [00:00<?, ?it/s]"
      ]
     },
     "metadata": {},
     "output_type": "display_data"
    },
    {
     "data": {
      "application/vnd.jupyter.widget-view+json": {
       "model_id": "",
       "version_major": 2,
       "version_minor": 0
      },
      "text/plain": [
       "  0%|          | 0/86 [00:00<?, ?it/s]"
      ]
     },
     "metadata": {},
     "output_type": "display_data"
    },
    {
     "data": {
      "application/vnd.jupyter.widget-view+json": {
       "model_id": "",
       "version_major": 2,
       "version_minor": 0
      },
      "text/plain": [
       "  0%|          | 0/86 [00:00<?, ?it/s]"
      ]
     },
     "metadata": {},
     "output_type": "display_data"
    },
    {
     "data": {
      "application/vnd.jupyter.widget-view+json": {
       "model_id": "",
       "version_major": 2,
       "version_minor": 0
      },
      "text/plain": [
       "  0%|          | 0/86 [00:00<?, ?it/s]"
      ]
     },
     "metadata": {},
     "output_type": "display_data"
    },
    {
     "data": {
      "application/vnd.jupyter.widget-view+json": {
       "model_id": "",
       "version_major": 2,
       "version_minor": 0
      },
      "text/plain": [
       "  0%|          | 0/86 [00:00<?, ?it/s]"
      ]
     },
     "metadata": {},
     "output_type": "display_data"
    },
    {
     "data": {
      "application/vnd.jupyter.widget-view+json": {
       "model_id": "",
       "version_major": 2,
       "version_minor": 0
      },
      "text/plain": [
       "  0%|          | 0/86 [00:00<?, ?it/s]"
      ]
     },
     "metadata": {},
     "output_type": "display_data"
    },
    {
     "data": {
      "application/vnd.jupyter.widget-view+json": {
       "model_id": "",
       "version_major": 2,
       "version_minor": 0
      },
      "text/plain": [
       "  0%|          | 0/86 [00:00<?, ?it/s]"
      ]
     },
     "metadata": {},
     "output_type": "display_data"
    },
    {
     "data": {
      "application/vnd.jupyter.widget-view+json": {
       "model_id": "",
       "version_major": 2,
       "version_minor": 0
      },
      "text/plain": [
       "  0%|          | 0/86 [00:00<?, ?it/s]"
      ]
     },
     "metadata": {},
     "output_type": "display_data"
    },
    {
     "data": {
      "application/vnd.jupyter.widget-view+json": {
       "model_id": "",
       "version_major": 2,
       "version_minor": 0
      },
      "text/plain": [
       "  0%|          | 0/86 [00:00<?, ?it/s]"
      ]
     },
     "metadata": {},
     "output_type": "display_data"
    },
    {
     "data": {
      "application/vnd.jupyter.widget-view+json": {
       "model_id": "",
       "version_major": 2,
       "version_minor": 0
      },
      "text/plain": [
       "  0%|          | 0/86 [00:00<?, ?it/s]"
      ]
     },
     "metadata": {},
     "output_type": "display_data"
    },
    {
     "data": {
      "application/vnd.jupyter.widget-view+json": {
       "model_id": "",
       "version_major": 2,
       "version_minor": 0
      },
      "text/plain": [
       "  0%|          | 0/86 [00:00<?, ?it/s]"
      ]
     },
     "metadata": {},
     "output_type": "display_data"
    },
    {
     "data": {
      "application/vnd.jupyter.widget-view+json": {
       "model_id": "",
       "version_major": 2,
       "version_minor": 0
      },
      "text/plain": [
       "  0%|          | 0/86 [00:00<?, ?it/s]"
      ]
     },
     "metadata": {},
     "output_type": "display_data"
    },
    {
     "data": {
      "application/vnd.jupyter.widget-view+json": {
       "model_id": "",
       "version_major": 2,
       "version_minor": 0
      },
      "text/plain": [
       "  0%|          | 0/86 [00:00<?, ?it/s]"
      ]
     },
     "metadata": {},
     "output_type": "display_data"
    },
    {
     "data": {
      "application/vnd.jupyter.widget-view+json": {
       "model_id": "",
       "version_major": 2,
       "version_minor": 0
      },
      "text/plain": [
       "  0%|          | 0/86 [00:00<?, ?it/s]"
      ]
     },
     "metadata": {},
     "output_type": "display_data"
    },
    {
     "data": {
      "application/vnd.jupyter.widget-view+json": {
       "model_id": "",
       "version_major": 2,
       "version_minor": 0
      },
      "text/plain": [
       "  0%|          | 0/86 [00:00<?, ?it/s]"
      ]
     },
     "metadata": {},
     "output_type": "display_data"
    },
    {
     "data": {
      "application/vnd.jupyter.widget-view+json": {
       "model_id": "",
       "version_major": 2,
       "version_minor": 0
      },
      "text/plain": [
       "  0%|          | 0/86 [00:00<?, ?it/s]"
      ]
     },
     "metadata": {},
     "output_type": "display_data"
    },
    {
     "data": {
      "application/vnd.jupyter.widget-view+json": {
       "model_id": "",
       "version_major": 2,
       "version_minor": 0
      },
      "text/plain": [
       "  0%|          | 0/86 [00:00<?, ?it/s]"
      ]
     },
     "metadata": {},
     "output_type": "display_data"
    },
    {
     "data": {
      "application/vnd.jupyter.widget-view+json": {
       "model_id": "",
       "version_major": 2,
       "version_minor": 0
      },
      "text/plain": [
       "  0%|          | 0/86 [00:00<?, ?it/s]"
      ]
     },
     "metadata": {},
     "output_type": "display_data"
    },
    {
     "data": {
      "application/vnd.jupyter.widget-view+json": {
       "model_id": "",
       "version_major": 2,
       "version_minor": 0
      },
      "text/plain": [
       "  0%|          | 0/86 [00:00<?, ?it/s]"
      ]
     },
     "metadata": {},
     "output_type": "display_data"
    },
    {
     "data": {
      "application/vnd.jupyter.widget-view+json": {
       "model_id": "",
       "version_major": 2,
       "version_minor": 0
      },
      "text/plain": [
       "  0%|          | 0/86 [00:00<?, ?it/s]"
      ]
     },
     "metadata": {},
     "output_type": "display_data"
    },
    {
     "data": {
      "application/vnd.jupyter.widget-view+json": {
       "model_id": "",
       "version_major": 2,
       "version_minor": 0
      },
      "text/plain": [
       "  0%|          | 0/86 [00:00<?, ?it/s]"
      ]
     },
     "metadata": {},
     "output_type": "display_data"
    },
    {
     "data": {
      "application/vnd.jupyter.widget-view+json": {
       "model_id": "",
       "version_major": 2,
       "version_minor": 0
      },
      "text/plain": [
       "  0%|          | 0/86 [00:00<?, ?it/s]"
      ]
     },
     "metadata": {},
     "output_type": "display_data"
    },
    {
     "data": {
      "application/vnd.jupyter.widget-view+json": {
       "model_id": "",
       "version_major": 2,
       "version_minor": 0
      },
      "text/plain": [
       "  0%|          | 0/86 [00:00<?, ?it/s]"
      ]
     },
     "metadata": {},
     "output_type": "display_data"
    },
    {
     "data": {
      "application/vnd.jupyter.widget-view+json": {
       "model_id": "",
       "version_major": 2,
       "version_minor": 0
      },
      "text/plain": [
       "  0%|          | 0/86 [00:00<?, ?it/s]"
      ]
     },
     "metadata": {},
     "output_type": "display_data"
    },
    {
     "data": {
      "application/vnd.jupyter.widget-view+json": {
       "model_id": "",
       "version_major": 2,
       "version_minor": 0
      },
      "text/plain": [
       "  0%|          | 0/86 [00:00<?, ?it/s]"
      ]
     },
     "metadata": {},
     "output_type": "display_data"
    },
    {
     "data": {
      "application/vnd.jupyter.widget-view+json": {
       "model_id": "",
       "version_major": 2,
       "version_minor": 0
      },
      "text/plain": [
       "  0%|          | 0/86 [00:00<?, ?it/s]"
      ]
     },
     "metadata": {},
     "output_type": "display_data"
    },
    {
     "data": {
      "application/vnd.jupyter.widget-view+json": {
       "model_id": "",
       "version_major": 2,
       "version_minor": 0
      },
      "text/plain": [
       "  0%|          | 0/86 [00:00<?, ?it/s]"
      ]
     },
     "metadata": {},
     "output_type": "display_data"
    },
    {
     "data": {
      "application/vnd.jupyter.widget-view+json": {
       "model_id": "",
       "version_major": 2,
       "version_minor": 0
      },
      "text/plain": [
       "  0%|          | 0/86 [00:00<?, ?it/s]"
      ]
     },
     "metadata": {},
     "output_type": "display_data"
    },
    {
     "data": {
      "application/vnd.jupyter.widget-view+json": {
       "model_id": "",
       "version_major": 2,
       "version_minor": 0
      },
      "text/plain": [
       "  0%|          | 0/86 [00:00<?, ?it/s]"
      ]
     },
     "metadata": {},
     "output_type": "display_data"
    },
    {
     "data": {
      "application/vnd.jupyter.widget-view+json": {
       "model_id": "",
       "version_major": 2,
       "version_minor": 0
      },
      "text/plain": [
       "  0%|          | 0/86 [00:00<?, ?it/s]"
      ]
     },
     "metadata": {},
     "output_type": "display_data"
    },
    {
     "data": {
      "application/vnd.jupyter.widget-view+json": {
       "model_id": "",
       "version_major": 2,
       "version_minor": 0
      },
      "text/plain": [
       "  0%|          | 0/86 [00:00<?, ?it/s]"
      ]
     },
     "metadata": {},
     "output_type": "display_data"
    },
    {
     "data": {
      "application/vnd.jupyter.widget-view+json": {
       "model_id": "",
       "version_major": 2,
       "version_minor": 0
      },
      "text/plain": [
       "  0%|          | 0/86 [00:00<?, ?it/s]"
      ]
     },
     "metadata": {},
     "output_type": "display_data"
    },
    {
     "data": {
      "application/vnd.jupyter.widget-view+json": {
       "model_id": "",
       "version_major": 2,
       "version_minor": 0
      },
      "text/plain": [
       "  0%|          | 0/86 [00:00<?, ?it/s]"
      ]
     },
     "metadata": {},
     "output_type": "display_data"
    },
    {
     "data": {
      "application/vnd.jupyter.widget-view+json": {
       "model_id": "",
       "version_major": 2,
       "version_minor": 0
      },
      "text/plain": [
       "  0%|          | 0/86 [00:00<?, ?it/s]"
      ]
     },
     "metadata": {},
     "output_type": "display_data"
    },
    {
     "data": {
      "application/vnd.jupyter.widget-view+json": {
       "model_id": "",
       "version_major": 2,
       "version_minor": 0
      },
      "text/plain": [
       "  0%|          | 0/86 [00:00<?, ?it/s]"
      ]
     },
     "metadata": {},
     "output_type": "display_data"
    },
    {
     "data": {
      "application/vnd.jupyter.widget-view+json": {
       "model_id": "",
       "version_major": 2,
       "version_minor": 0
      },
      "text/plain": [
       "  0%|          | 0/86 [00:00<?, ?it/s]"
      ]
     },
     "metadata": {},
     "output_type": "display_data"
    },
    {
     "data": {
      "application/vnd.jupyter.widget-view+json": {
       "model_id": "",
       "version_major": 2,
       "version_minor": 0
      },
      "text/plain": [
       "  0%|          | 0/86 [00:00<?, ?it/s]"
      ]
     },
     "metadata": {},
     "output_type": "display_data"
    },
    {
     "data": {
      "application/vnd.jupyter.widget-view+json": {
       "model_id": "",
       "version_major": 2,
       "version_minor": 0
      },
      "text/plain": [
       "  0%|          | 0/86 [00:00<?, ?it/s]"
      ]
     },
     "metadata": {},
     "output_type": "display_data"
    },
    {
     "data": {
      "application/vnd.jupyter.widget-view+json": {
       "model_id": "",
       "version_major": 2,
       "version_minor": 0
      },
      "text/plain": [
       "  0%|          | 0/86 [00:00<?, ?it/s]"
      ]
     },
     "metadata": {},
     "output_type": "display_data"
    },
    {
     "data": {
      "application/vnd.jupyter.widget-view+json": {
       "model_id": "",
       "version_major": 2,
       "version_minor": 0
      },
      "text/plain": [
       "  0%|          | 0/86 [00:00<?, ?it/s]"
      ]
     },
     "metadata": {},
     "output_type": "display_data"
    },
    {
     "data": {
      "application/vnd.jupyter.widget-view+json": {
       "model_id": "",
       "version_major": 2,
       "version_minor": 0
      },
      "text/plain": [
       "  0%|          | 0/86 [00:00<?, ?it/s]"
      ]
     },
     "metadata": {},
     "output_type": "display_data"
    },
    {
     "data": {
      "application/vnd.jupyter.widget-view+json": {
       "model_id": "",
       "version_major": 2,
       "version_minor": 0
      },
      "text/plain": [
       "  0%|          | 0/86 [00:00<?, ?it/s]"
      ]
     },
     "metadata": {},
     "output_type": "display_data"
    },
    {
     "data": {
      "application/vnd.jupyter.widget-view+json": {
       "model_id": "",
       "version_major": 2,
       "version_minor": 0
      },
      "text/plain": [
       "  0%|          | 0/86 [00:00<?, ?it/s]"
      ]
     },
     "metadata": {},
     "output_type": "display_data"
    },
    {
     "data": {
      "application/vnd.jupyter.widget-view+json": {
       "model_id": "",
       "version_major": 2,
       "version_minor": 0
      },
      "text/plain": [
       "  0%|          | 0/86 [00:00<?, ?it/s]"
      ]
     },
     "metadata": {},
     "output_type": "display_data"
    },
    {
     "data": {
      "application/vnd.jupyter.widget-view+json": {
       "model_id": "",
       "version_major": 2,
       "version_minor": 0
      },
      "text/plain": [
       "  0%|          | 0/86 [00:00<?, ?it/s]"
      ]
     },
     "metadata": {},
     "output_type": "display_data"
    },
    {
     "data": {
      "application/vnd.jupyter.widget-view+json": {
       "model_id": "",
       "version_major": 2,
       "version_minor": 0
      },
      "text/plain": [
       "  0%|          | 0/86 [00:00<?, ?it/s]"
      ]
     },
     "metadata": {},
     "output_type": "display_data"
    },
    {
     "data": {
      "application/vnd.jupyter.widget-view+json": {
       "model_id": "",
       "version_major": 2,
       "version_minor": 0
      },
      "text/plain": [
       "  0%|          | 0/86 [00:00<?, ?it/s]"
      ]
     },
     "metadata": {},
     "output_type": "display_data"
    },
    {
     "data": {
      "application/vnd.jupyter.widget-view+json": {
       "model_id": "",
       "version_major": 2,
       "version_minor": 0
      },
      "text/plain": [
       "  0%|          | 0/86 [00:00<?, ?it/s]"
      ]
     },
     "metadata": {},
     "output_type": "display_data"
    },
    {
     "data": {
      "application/vnd.jupyter.widget-view+json": {
       "model_id": "",
       "version_major": 2,
       "version_minor": 0
      },
      "text/plain": [
       "  0%|          | 0/86 [00:00<?, ?it/s]"
      ]
     },
     "metadata": {},
     "output_type": "display_data"
    },
    {
     "data": {
      "application/vnd.jupyter.widget-view+json": {
       "model_id": "",
       "version_major": 2,
       "version_minor": 0
      },
      "text/plain": [
       "  0%|          | 0/86 [00:00<?, ?it/s]"
      ]
     },
     "metadata": {},
     "output_type": "display_data"
    },
    {
     "data": {
      "application/vnd.jupyter.widget-view+json": {
       "model_id": "",
       "version_major": 2,
       "version_minor": 0
      },
      "text/plain": [
       "  0%|          | 0/86 [00:00<?, ?it/s]"
      ]
     },
     "metadata": {},
     "output_type": "display_data"
    },
    {
     "data": {
      "application/vnd.jupyter.widget-view+json": {
       "model_id": "",
       "version_major": 2,
       "version_minor": 0
      },
      "text/plain": [
       "  0%|          | 0/86 [00:00<?, ?it/s]"
      ]
     },
     "metadata": {},
     "output_type": "display_data"
    },
    {
     "data": {
      "application/vnd.jupyter.widget-view+json": {
       "model_id": "",
       "version_major": 2,
       "version_minor": 0
      },
      "text/plain": [
       "  0%|          | 0/86 [00:00<?, ?it/s]"
      ]
     },
     "metadata": {},
     "output_type": "display_data"
    },
    {
     "data": {
      "application/vnd.jupyter.widget-view+json": {
       "model_id": "",
       "version_major": 2,
       "version_minor": 0
      },
      "text/plain": [
       "  0%|          | 0/86 [00:00<?, ?it/s]"
      ]
     },
     "metadata": {},
     "output_type": "display_data"
    },
    {
     "data": {
      "application/vnd.jupyter.widget-view+json": {
       "model_id": "",
       "version_major": 2,
       "version_minor": 0
      },
      "text/plain": [
       "  0%|          | 0/86 [00:00<?, ?it/s]"
      ]
     },
     "metadata": {},
     "output_type": "display_data"
    },
    {
     "data": {
      "application/vnd.jupyter.widget-view+json": {
       "model_id": "",
       "version_major": 2,
       "version_minor": 0
      },
      "text/plain": [
       "  0%|          | 0/86 [00:00<?, ?it/s]"
      ]
     },
     "metadata": {},
     "output_type": "display_data"
    },
    {
     "data": {
      "application/vnd.jupyter.widget-view+json": {
       "model_id": "",
       "version_major": 2,
       "version_minor": 0
      },
      "text/plain": [
       "  0%|          | 0/86 [00:00<?, ?it/s]"
      ]
     },
     "metadata": {},
     "output_type": "display_data"
    },
    {
     "data": {
      "application/vnd.jupyter.widget-view+json": {
       "model_id": "",
       "version_major": 2,
       "version_minor": 0
      },
      "text/plain": [
       "  0%|          | 0/86 [00:00<?, ?it/s]"
      ]
     },
     "metadata": {},
     "output_type": "display_data"
    },
    {
     "data": {
      "application/vnd.jupyter.widget-view+json": {
       "model_id": "",
       "version_major": 2,
       "version_minor": 0
      },
      "text/plain": [
       "  0%|          | 0/86 [00:00<?, ?it/s]"
      ]
     },
     "metadata": {},
     "output_type": "display_data"
    },
    {
     "data": {
      "application/vnd.jupyter.widget-view+json": {
       "model_id": "",
       "version_major": 2,
       "version_minor": 0
      },
      "text/plain": [
       "  0%|          | 0/86 [00:00<?, ?it/s]"
      ]
     },
     "metadata": {},
     "output_type": "display_data"
    },
    {
     "data": {
      "application/vnd.jupyter.widget-view+json": {
       "model_id": "",
       "version_major": 2,
       "version_minor": 0
      },
      "text/plain": [
       "  0%|          | 0/86 [00:00<?, ?it/s]"
      ]
     },
     "metadata": {},
     "output_type": "display_data"
    },
    {
     "data": {
      "application/vnd.jupyter.widget-view+json": {
       "model_id": "",
       "version_major": 2,
       "version_minor": 0
      },
      "text/plain": [
       "  0%|          | 0/86 [00:00<?, ?it/s]"
      ]
     },
     "metadata": {},
     "output_type": "display_data"
    },
    {
     "data": {
      "application/vnd.jupyter.widget-view+json": {
       "model_id": "",
       "version_major": 2,
       "version_minor": 0
      },
      "text/plain": [
       "  0%|          | 0/86 [00:00<?, ?it/s]"
      ]
     },
     "metadata": {},
     "output_type": "display_data"
    },
    {
     "data": {
      "application/vnd.jupyter.widget-view+json": {
       "model_id": "",
       "version_major": 2,
       "version_minor": 0
      },
      "text/plain": [
       "  0%|          | 0/86 [00:00<?, ?it/s]"
      ]
     },
     "metadata": {},
     "output_type": "display_data"
    },
    {
     "data": {
      "application/vnd.jupyter.widget-view+json": {
       "model_id": "",
       "version_major": 2,
       "version_minor": 0
      },
      "text/plain": [
       "  0%|          | 0/86 [00:00<?, ?it/s]"
      ]
     },
     "metadata": {},
     "output_type": "display_data"
    },
    {
     "data": {
      "application/vnd.jupyter.widget-view+json": {
       "model_id": "",
       "version_major": 2,
       "version_minor": 0
      },
      "text/plain": [
       "  0%|          | 0/86 [00:00<?, ?it/s]"
      ]
     },
     "metadata": {},
     "output_type": "display_data"
    },
    {
     "data": {
      "application/vnd.jupyter.widget-view+json": {
       "model_id": "",
       "version_major": 2,
       "version_minor": 0
      },
      "text/plain": [
       "  0%|          | 0/86 [00:00<?, ?it/s]"
      ]
     },
     "metadata": {},
     "output_type": "display_data"
    },
    {
     "data": {
      "application/vnd.jupyter.widget-view+json": {
       "model_id": "",
       "version_major": 2,
       "version_minor": 0
      },
      "text/plain": [
       "  0%|          | 0/86 [00:00<?, ?it/s]"
      ]
     },
     "metadata": {},
     "output_type": "display_data"
    },
    {
     "data": {
      "application/vnd.jupyter.widget-view+json": {
       "model_id": "",
       "version_major": 2,
       "version_minor": 0
      },
      "text/plain": [
       "  0%|          | 0/86 [00:00<?, ?it/s]"
      ]
     },
     "metadata": {},
     "output_type": "display_data"
    },
    {
     "data": {
      "application/vnd.jupyter.widget-view+json": {
       "model_id": "",
       "version_major": 2,
       "version_minor": 0
      },
      "text/plain": [
       "  0%|          | 0/86 [00:00<?, ?it/s]"
      ]
     },
     "metadata": {},
     "output_type": "display_data"
    },
    {
     "data": {
      "application/vnd.jupyter.widget-view+json": {
       "model_id": "",
       "version_major": 2,
       "version_minor": 0
      },
      "text/plain": [
       "  0%|          | 0/86 [00:00<?, ?it/s]"
      ]
     },
     "metadata": {},
     "output_type": "display_data"
    },
    {
     "data": {
      "application/vnd.jupyter.widget-view+json": {
       "model_id": "",
       "version_major": 2,
       "version_minor": 0
      },
      "text/plain": [
       "  0%|          | 0/86 [00:00<?, ?it/s]"
      ]
     },
     "metadata": {},
     "output_type": "display_data"
    },
    {
     "data": {
      "application/vnd.jupyter.widget-view+json": {
       "model_id": "",
       "version_major": 2,
       "version_minor": 0
      },
      "text/plain": [
       "  0%|          | 0/86 [00:00<?, ?it/s]"
      ]
     },
     "metadata": {},
     "output_type": "display_data"
    },
    {
     "data": {
      "application/vnd.jupyter.widget-view+json": {
       "model_id": "",
       "version_major": 2,
       "version_minor": 0
      },
      "text/plain": [
       "  0%|          | 0/86 [00:00<?, ?it/s]"
      ]
     },
     "metadata": {},
     "output_type": "display_data"
    },
    {
     "data": {
      "application/vnd.jupyter.widget-view+json": {
       "model_id": "",
       "version_major": 2,
       "version_minor": 0
      },
      "text/plain": [
       "  0%|          | 0/86 [00:00<?, ?it/s]"
      ]
     },
     "metadata": {},
     "output_type": "display_data"
    },
    {
     "data": {
      "application/vnd.jupyter.widget-view+json": {
       "model_id": "",
       "version_major": 2,
       "version_minor": 0
      },
      "text/plain": [
       "  0%|          | 0/86 [00:00<?, ?it/s]"
      ]
     },
     "metadata": {},
     "output_type": "display_data"
    },
    {
     "data": {
      "application/vnd.jupyter.widget-view+json": {
       "model_id": "",
       "version_major": 2,
       "version_minor": 0
      },
      "text/plain": [
       "  0%|          | 0/86 [00:00<?, ?it/s]"
      ]
     },
     "metadata": {},
     "output_type": "display_data"
    },
    {
     "data": {
      "application/vnd.jupyter.widget-view+json": {
       "model_id": "",
       "version_major": 2,
       "version_minor": 0
      },
      "text/plain": [
       "  0%|          | 0/86 [00:00<?, ?it/s]"
      ]
     },
     "metadata": {},
     "output_type": "display_data"
    },
    {
     "data": {
      "application/vnd.jupyter.widget-view+json": {
       "model_id": "",
       "version_major": 2,
       "version_minor": 0
      },
      "text/plain": [
       "  0%|          | 0/86 [00:00<?, ?it/s]"
      ]
     },
     "metadata": {},
     "output_type": "display_data"
    },
    {
     "data": {
      "application/vnd.jupyter.widget-view+json": {
       "model_id": "",
       "version_major": 2,
       "version_minor": 0
      },
      "text/plain": [
       "  0%|          | 0/86 [00:00<?, ?it/s]"
      ]
     },
     "metadata": {},
     "output_type": "display_data"
    },
    {
     "data": {
      "application/vnd.jupyter.widget-view+json": {
       "model_id": "",
       "version_major": 2,
       "version_minor": 0
      },
      "text/plain": [
       "  0%|          | 0/86 [00:00<?, ?it/s]"
      ]
     },
     "metadata": {},
     "output_type": "display_data"
    },
    {
     "data": {
      "application/vnd.jupyter.widget-view+json": {
       "model_id": "",
       "version_major": 2,
       "version_minor": 0
      },
      "text/plain": [
       "  0%|          | 0/86 [00:00<?, ?it/s]"
      ]
     },
     "metadata": {},
     "output_type": "display_data"
    },
    {
     "data": {
      "application/vnd.jupyter.widget-view+json": {
       "model_id": "",
       "version_major": 2,
       "version_minor": 0
      },
      "text/plain": [
       "  0%|          | 0/86 [00:00<?, ?it/s]"
      ]
     },
     "metadata": {},
     "output_type": "display_data"
    },
    {
     "data": {
      "application/vnd.jupyter.widget-view+json": {
       "model_id": "",
       "version_major": 2,
       "version_minor": 0
      },
      "text/plain": [
       "  0%|          | 0/86 [00:00<?, ?it/s]"
      ]
     },
     "metadata": {},
     "output_type": "display_data"
    },
    {
     "data": {
      "application/vnd.jupyter.widget-view+json": {
       "model_id": "",
       "version_major": 2,
       "version_minor": 0
      },
      "text/plain": [
       "  0%|          | 0/86 [00:00<?, ?it/s]"
      ]
     },
     "metadata": {},
     "output_type": "display_data"
    }
   ],
   "source": [
    "cm_np = cm.to_numpy()\n",
    "dm1 = get_dm(cm_np, Q, all_a = False)\n",
    "# dm2 = get_dm(cm_np, Q, all_a = True) #TODO: ancestor calculations not actually implemented yet"
   ]
  },
  {
   "cell_type": "code",
   "execution_count": 11,
   "id": "cd1ff39a",
   "metadata": {},
   "outputs": [
    {
     "data": {
      "image/png": "[encoded data removed]",
      "text/plain": [
       "<Figure size 432x288 with 1 Axes>"
      ]
     },
     "metadata": {
      "needs_background": "light"
     },
     "output_type": "display_data"
    }
   ],
   "source": [
    "import matplotlib.pyplot as plt\n",
    "plt.imshow(dm1, cmap='jet', interpolation='nearest')\n",
    "plt.show()\n",
    "# plt.imshow(dm2, cmap='jet', interpolation='nearest')\n",
    "# plt.show()"
   ]
  },
  {
   "cell_type": "code",
   "execution_count": 13,
   "id": "98ab89f1",
   "metadata": {},
   "outputs": [
    {
     "name": "stdout",
     "output_type": "stream",
     "text": [
      "[ 31  38 192  51  78  51]\n",
      "[ 7  1  2 51 78 56]\n"
     ]
    }
   ],
   "source": [
    "n_species = cm_np.shape[0]\n",
    "print(cm_np[np.argmax(dm1) % n_species,:])\n",
    "print(cm_np[int(np.argmax(dm1) / n_species),:])"
   ]
  },
  {
   "cell_type": "code",
   "execution_count": 14,
   "id": "330673ab",
   "metadata": {},
   "outputs": [],
   "source": [
    "def get_phylip_dm(dm, names):\n",
    "#names = cm.index\n",
    "    line1 = '%d' % len(names)\n",
    "    lines = [line1]\n",
    "    for name, row in zip(names, dm):\n",
    "        line = \"\"\n",
    "        line += str(name)\n",
    "        line += '\\t'\n",
    "        line += ' '.join([str(dist) for dist in row])\n",
    "        lines.append(line)\n",
    "        #for value in row:\n",
    "        #    dm_phylip += '\\t%s' % value\n",
    "    return '\\n'.join(lines)"
   ]
  },
  {
   "cell_type": "code",
   "execution_count": 15,
   "id": "5244de3f",
   "metadata": {},
   "outputs": [],
   "source": [
    "from ete3 import Tree\n",
    "import os\n",
    "import subprocess\n",
    "def weighbor(pdm, names, seq_len):\n",
    "    dm_phylip = get_phylip_dm(pdm, names)\n",
    "    #print(dm_phylip)\n",
    "    cmd = os.path.expanduser('~/phylogeny/Weighbor/weighbor')\n",
    "    args = ('-L %i -b 300' % seq_len).split(' ') #todo: double-check Weighbor parameters\n",
    "    proc = subprocess.run([cmd] + args,\n",
    "                          input=dm_phylip.encode(),\n",
    "                          stdout=subprocess.PIPE)\n",
    "    newick = proc.stdout.decode().strip()\n",
    "    #print(newick)\n",
    "    return Tree(newick)"
   ]
  },
  {
   "cell_type": "code",
   "execution_count": 16,
   "id": "f111df43",
   "metadata": {},
   "outputs": [],
   "source": [
    "def est_Q(inferred_tree, cm_np):\n",
    "    for node in inferred_tree.get_leaves():\n",
    "        #print(node.name)\n",
    "        node.cassette_state = cm_np[int(node.name),:]\n",
    "        #print(node.cassette_state)\n",
    "    num_states = np.max(cm_np)+1\n",
    "    transition_counter = np.zeros((num_states,num_states))\n",
    "    state_counter = np.zeros(num_states)\n",
    "    #print(transition_counter)\n",
    "    n_sites = None\n",
    "    for node in inferred_tree.traverse(\"postorder\"):\n",
    "        if not hasattr(node,'cassette_state'):\n",
    "            #todo: lca of multiple children\n",
    "            x = node.children[0].cassette_state\n",
    "            y = node.children[1].cassette_state\n",
    "            n_sites = len(x)\n",
    "            lca = (x!=y) * np.arange(n_sites) + (x==y) * x\n",
    "            node.cassette_state = lca\n",
    "        n_sites = len(node.cassette_state)\n",
    "        if len(node.children)>0:\n",
    "            state_counter[node.cassette_state] += 1\n",
    "        for child in node.children:\n",
    "            for k in range(n_sites):\n",
    "                from_state = node.cassette_state[k]\n",
    "                to_state = child.cassette_state[k]\n",
    "    #                 print(from_state,to_state)\n",
    "                transition_counter[from_state,to_state] += 1\n",
    "    \n",
    "    EPSILON = 0.001\n",
    "    Q_est = transition_counter/(state_counter[:,None]+EPSILON)\n",
    "    np.fill_diagonal(Q_est,np.diag(Q_est)*-1)\n",
    "    return Q_est"
   ]
  },
  {
   "cell_type": "code",
   "execution_count": 18,
   "id": "91ac6ec9",
   "metadata": {},
   "outputs": [],
   "source": [
    "#estimate a prior over ancestors based on how many differences they have from the LCA\n",
    "#for each pair of nodes in the inferred tree\n",
    "def est_a_prior(tree):\n",
    "    n_sites = len(tree.get_leaves()[0].cassette_state)\n",
    "    a_prior = np.zeros(n_sites)\n",
    "    for x in tree.get_leaves():\n",
    "        for y in tree.get_leaves():\n",
    "            x_seq = x.cassette_state\n",
    "            y_seq = y.cassette_state\n",
    "            #print('-------')\n",
    "            lca = (x_seq!=y_seq) * np.arange(n_sites) + (x_seq==y_seq) * x_seq\n",
    "            a_seq = tree.get_common_ancestor(x,y).cassette_state\n",
    "            num_diffs = np.sum(lca!=a_seq)\n",
    "            a_prior[num_diffs] += 1\n",
    "    return a_prior/np.sum(a_prior)\n",
    "            "
   ]
  },
  {
   "cell_type": "code",
   "execution_count": 19,
   "id": "c3a39c43",
   "metadata": {},
   "outputs": [],
   "source": [
    "Q_ests = []\n",
    "trees = []\n",
    "def infer_tree(cm, Q=None):\n",
    "    true_names = cm.index\n",
    "    new_names = np.arange(0, len(cm.index))\n",
    "    cm.index = new_names\n",
    "    \n",
    "    #set initial rate matrix\n",
    "    num_states = np.max(cm.to_numpy())+1\n",
    "    num_sites = len(cassette_sites)\n",
    "    Q0 = np.zeros((num_states, num_states))\n",
    "    Q0[0:num_sites,num_sites:num_states]=1\n",
    "    np.fill_diagonal(Q0, -(num_states-num_sites))\n",
    "    \n",
    "    if Q is not None: Q0=Q\n",
    "    \n",
    "    Q_est = Q0\n",
    "    Q_ests.append(Q_est)\n",
    "    for i in tqdm(range(2)):\n",
    "        \n",
    "        #compute distance matrix\n",
    "        print('computing distance matrix')\n",
    "        cm_np = cm.to_numpy()\n",
    "        dm = get_dm(cm_np, Q0, all_a=False)\n",
    "\n",
    "        #infer using Weighbor\n",
    "        print('using Weighbor to infer tree')\n",
    "        names = cm.index\n",
    "        inferred_tree = weighbor(dm, names, 6)\n",
    "        trees.append(inferred_tree)\n",
    "        \n",
    "        #estimate Q and the prior on the ancestors\n",
    "        print('getting new estimate of Q')\n",
    "        Q_est = est_Q(inferred_tree, cm_np)\n",
    "        a_prior = est_a_prior(inferred_tree)\n",
    "        Q_ests.append(Q_est)"
   ]
  },
  {
   "cell_type": "code",
   "execution_count": 20,
   "id": "4f4b21a2",
   "metadata": {},
   "outputs": [
    {
     "data": {
      "application/vnd.jupyter.widget-view+json": {
       "model_id": "65a0fb6263f54b3988ce47e7610683d3",
       "version_major": 2,
       "version_minor": 0
      },
      "text/plain": [
       "  0%|          | 0/2 [00:00<?, ?it/s]"
      ]
     },
     "metadata": {},
     "output_type": "display_data"
    },
    {
     "name": "stdout",
     "output_type": "stream",
     "text": [
      "computing distance matrix\n"
     ]
    },
    {
     "data": {
      "application/vnd.jupyter.widget-view+json": {
       "model_id": "",
       "version_major": 2,
       "version_minor": 0
      },
      "text/plain": [
       "  0%|          | 0/86 [00:00<?, ?it/s]"
      ]
     },
     "metadata": {},
     "output_type": "display_data"
    },
    {
     "data": {
      "application/vnd.jupyter.widget-view+json": {
       "model_id": "",
       "version_major": 2,
       "version_minor": 0
      },
      "text/plain": [
       "  0%|          | 0/86 [00:00<?, ?it/s]"
      ]
     },
     "metadata": {},
     "output_type": "display_data"
    },
    {
     "data": {
      "application/vnd.jupyter.widget-view+json": {
       "model_id": "",
       "version_major": 2,
       "version_minor": 0
      },
      "text/plain": [
       "  0%|          | 0/86 [00:00<?, ?it/s]"
      ]
     },
     "metadata": {},
     "output_type": "display_data"
    },
    {
     "data": {
      "application/vnd.jupyter.widget-view+json": {
       "model_id": "",
       "version_major": 2,
       "version_minor": 0
      },
      "text/plain": [
       "  0%|          | 0/86 [00:00<?, ?it/s]"
      ]
     },
     "metadata": {},
     "output_type": "display_data"
    },
    {
     "data": {
      "application/vnd.jupyter.widget-view+json": {
       "model_id": "",
       "version_major": 2,
       "version_minor": 0
      },
      "text/plain": [
       "  0%|          | 0/86 [00:00<?, ?it/s]"
      ]
     },
     "metadata": {},
     "output_type": "display_data"
    },
    {
     "data": {
      "application/vnd.jupyter.widget-view+json": {
       "model_id": "",
       "version_major": 2,
       "version_minor": 0
      },
      "text/plain": [
       "  0%|          | 0/86 [00:00<?, ?it/s]"
      ]
     },
     "metadata": {},
     "output_type": "display_data"
    },
    {
     "data": {
      "application/vnd.jupyter.widget-view+json": {
       "model_id": "",
       "version_major": 2,
       "version_minor": 0
      },
      "text/plain": [
       "  0%|          | 0/86 [00:00<?, ?it/s]"
      ]
     },
     "metadata": {},
     "output_type": "display_data"
    },
    {
     "data": {
      "application/vnd.jupyter.widget-view+json": {
       "model_id": "",
       "version_major": 2,
       "version_minor": 0
      },
      "text/plain": [
       "  0%|          | 0/86 [00:00<?, ?it/s]"
      ]
     },
     "metadata": {},
     "output_type": "display_data"
    },
    {
     "data": {
      "application/vnd.jupyter.widget-view+json": {
       "model_id": "",
       "version_major": 2,
       "version_minor": 0
      },
      "text/plain": [
       "  0%|          | 0/86 [00:00<?, ?it/s]"
      ]
     },
     "metadata": {},
     "output_type": "display_data"
    },
    {
     "data": {
      "application/vnd.jupyter.widget-view+json": {
       "model_id": "",
       "version_major": 2,
       "version_minor": 0
      },
      "text/plain": [
       "  0%|          | 0/86 [00:00<?, ?it/s]"
      ]
     },
     "metadata": {},
     "output_type": "display_data"
    },
    {
     "data": {
      "application/vnd.jupyter.widget-view+json": {
       "model_id": "",
       "version_major": 2,
       "version_minor": 0
      },
      "text/plain": [
       "  0%|          | 0/86 [00:00<?, ?it/s]"
      ]
     },
     "metadata": {},
     "output_type": "display_data"
    },
    {
     "data": {
      "application/vnd.jupyter.widget-view+json": {
       "model_id": "",
       "version_major": 2,
       "version_minor": 0
      },
      "text/plain": [
       "  0%|          | 0/86 [00:00<?, ?it/s]"
      ]
     },
     "metadata": {},
     "output_type": "display_data"
    },
    {
     "data": {
      "application/vnd.jupyter.widget-view+json": {
       "model_id": "",
       "version_major": 2,
       "version_minor": 0
      },
      "text/plain": [
       "  0%|          | 0/86 [00:00<?, ?it/s]"
      ]
     },
     "metadata": {},
     "output_type": "display_data"
    },
    {
     "data": {
      "application/vnd.jupyter.widget-view+json": {
       "model_id": "",
       "version_major": 2,
       "version_minor": 0
      },
      "text/plain": [
       "  0%|          | 0/86 [00:00<?, ?it/s]"
      ]
     },
     "metadata": {},
     "output_type": "display_data"
    },
    {
     "data": {
      "application/vnd.jupyter.widget-view+json": {
       "model_id": "",
       "version_major": 2,
       "version_minor": 0
      },
      "text/plain": [
       "  0%|          | 0/86 [00:00<?, ?it/s]"
      ]
     },
     "metadata": {},
     "output_type": "display_data"
    },
    {
     "data": {
      "application/vnd.jupyter.widget-view+json": {
       "model_id": "",
       "version_major": 2,
       "version_minor": 0
      },
      "text/plain": [
       "  0%|          | 0/86 [00:00<?, ?it/s]"
      ]
     },
     "metadata": {},
     "output_type": "display_data"
    },
    {
     "data": {
      "application/vnd.jupyter.widget-view+json": {
       "model_id": "",
       "version_major": 2,
       "version_minor": 0
      },
      "text/plain": [
       "  0%|          | 0/86 [00:00<?, ?it/s]"
      ]
     },
     "metadata": {},
     "output_type": "display_data"
    },
    {
     "data": {
      "application/vnd.jupyter.widget-view+json": {
       "model_id": "",
       "version_major": 2,
       "version_minor": 0
      },
      "text/plain": [
       "  0%|          | 0/86 [00:00<?, ?it/s]"
      ]
     },
     "metadata": {},
     "output_type": "display_data"
    },
    {
     "data": {
      "application/vnd.jupyter.widget-view+json": {
       "model_id": "",
       "version_major": 2,
       "version_minor": 0
      },
      "text/plain": [
       "  0%|          | 0/86 [00:00<?, ?it/s]"
      ]
     },
     "metadata": {},
     "output_type": "display_data"
    },
    {
     "data": {
      "application/vnd.jupyter.widget-view+json": {
       "model_id": "",
       "version_major": 2,
       "version_minor": 0
      },
      "text/plain": [
       "  0%|          | 0/86 [00:00<?, ?it/s]"
      ]
     },
     "metadata": {},
     "output_type": "display_data"
    },
    {
     "data": {
      "application/vnd.jupyter.widget-view+json": {
       "model_id": "",
       "version_major": 2,
       "version_minor": 0
      },
      "text/plain": [
       "  0%|          | 0/86 [00:00<?, ?it/s]"
      ]
     },
     "metadata": {},
     "output_type": "display_data"
    },
    {
     "data": {
      "application/vnd.jupyter.widget-view+json": {
       "model_id": "",
       "version_major": 2,
       "version_minor": 0
      },
      "text/plain": [
       "  0%|          | 0/86 [00:00<?, ?it/s]"
      ]
     },
     "metadata": {},
     "output_type": "display_data"
    },
    {
     "data": {
      "application/vnd.jupyter.widget-view+json": {
       "model_id": "",
       "version_major": 2,
       "version_minor": 0
      },
      "text/plain": [
       "  0%|          | 0/86 [00:00<?, ?it/s]"
      ]
     },
     "metadata": {},
     "output_type": "display_data"
    },
    {
     "data": {
      "application/vnd.jupyter.widget-view+json": {
       "model_id": "",
       "version_major": 2,
       "version_minor": 0
      },
      "text/plain": [
       "  0%|          | 0/86 [00:00<?, ?it/s]"
      ]
     },
     "metadata": {},
     "output_type": "display_data"
    },
    {
     "data": {
      "application/vnd.jupyter.widget-view+json": {
       "model_id": "",
       "version_major": 2,
       "version_minor": 0
      },
      "text/plain": [
       "  0%|          | 0/86 [00:00<?, ?it/s]"
      ]
     },
     "metadata": {},
     "output_type": "display_data"
    },
    {
     "data": {
      "application/vnd.jupyter.widget-view+json": {
       "model_id": "",
       "version_major": 2,
       "version_minor": 0
      },
      "text/plain": [
       "  0%|          | 0/86 [00:00<?, ?it/s]"
      ]
     },
     "metadata": {},
     "output_type": "display_data"
    },
    {
     "data": {
      "application/vnd.jupyter.widget-view+json": {
       "model_id": "",
       "version_major": 2,
       "version_minor": 0
      },
      "text/plain": [
       "  0%|          | 0/86 [00:00<?, ?it/s]"
      ]
     },
     "metadata": {},
     "output_type": "display_data"
    },
    {
     "data": {
      "application/vnd.jupyter.widget-view+json": {
       "model_id": "",
       "version_major": 2,
       "version_minor": 0
      },
      "text/plain": [
       "  0%|          | 0/86 [00:00<?, ?it/s]"
      ]
     },
     "metadata": {},
     "output_type": "display_data"
    },
    {
     "data": {
      "application/vnd.jupyter.widget-view+json": {
       "model_id": "",
       "version_major": 2,
       "version_minor": 0
      },
      "text/plain": [
       "  0%|          | 0/86 [00:00<?, ?it/s]"
      ]
     },
     "metadata": {},
     "output_type": "display_data"
    },
    {
     "data": {
      "application/vnd.jupyter.widget-view+json": {
       "model_id": "",
       "version_major": 2,
       "version_minor": 0
      },
      "text/plain": [
       "  0%|          | 0/86 [00:00<?, ?it/s]"
      ]
     },
     "metadata": {},
     "output_type": "display_data"
    },
    {
     "data": {
      "application/vnd.jupyter.widget-view+json": {
       "model_id": "",
       "version_major": 2,
       "version_minor": 0
      },
      "text/plain": [
       "  0%|          | 0/86 [00:00<?, ?it/s]"
      ]
     },
     "metadata": {},
     "output_type": "display_data"
    },
    {
     "data": {
      "application/vnd.jupyter.widget-view+json": {
       "model_id": "",
       "version_major": 2,
       "version_minor": 0
      },
      "text/plain": [
       "  0%|          | 0/86 [00:00<?, ?it/s]"
      ]
     },
     "metadata": {},
     "output_type": "display_data"
    },
    {
     "data": {
      "application/vnd.jupyter.widget-view+json": {
       "model_id": "",
       "version_major": 2,
       "version_minor": 0
      },
      "text/plain": [
       "  0%|          | 0/86 [00:00<?, ?it/s]"
      ]
     },
     "metadata": {},
     "output_type": "display_data"
    },
    {
     "data": {
      "application/vnd.jupyter.widget-view+json": {
       "model_id": "",
       "version_major": 2,
       "version_minor": 0
      },
      "text/plain": [
       "  0%|          | 0/86 [00:00<?, ?it/s]"
      ]
     },
     "metadata": {},
     "output_type": "display_data"
    },
    {
     "data": {
      "application/vnd.jupyter.widget-view+json": {
       "model_id": "",
       "version_major": 2,
       "version_minor": 0
      },
      "text/plain": [
       "  0%|          | 0/86 [00:00<?, ?it/s]"
      ]
     },
     "metadata": {},
     "output_type": "display_data"
    },
    {
     "data": {
      "application/vnd.jupyter.widget-view+json": {
       "model_id": "",
       "version_major": 2,
       "version_minor": 0
      },
      "text/plain": [
       "  0%|          | 0/86 [00:00<?, ?it/s]"
      ]
     },
     "metadata": {},
     "output_type": "display_data"
    },
    {
     "data": {
      "application/vnd.jupyter.widget-view+json": {
       "model_id": "",
       "version_major": 2,
       "version_minor": 0
      },
      "text/plain": [
       "  0%|          | 0/86 [00:00<?, ?it/s]"
      ]
     },
     "metadata": {},
     "output_type": "display_data"
    },
    {
     "data": {
      "application/vnd.jupyter.widget-view+json": {
       "model_id": "",
       "version_major": 2,
       "version_minor": 0
      },
      "text/plain": [
       "  0%|          | 0/86 [00:00<?, ?it/s]"
      ]
     },
     "metadata": {},
     "output_type": "display_data"
    },
    {
     "data": {
      "application/vnd.jupyter.widget-view+json": {
       "model_id": "",
       "version_major": 2,
       "version_minor": 0
      },
      "text/plain": [
       "  0%|          | 0/86 [00:00<?, ?it/s]"
      ]
     },
     "metadata": {},
     "output_type": "display_data"
    },
    {
     "data": {
      "application/vnd.jupyter.widget-view+json": {
       "model_id": "",
       "version_major": 2,
       "version_minor": 0
      },
      "text/plain": [
       "  0%|          | 0/86 [00:00<?, ?it/s]"
      ]
     },
     "metadata": {},
     "output_type": "display_data"
    },
    {
     "data": {
      "application/vnd.jupyter.widget-view+json": {
       "model_id": "",
       "version_major": 2,
       "version_minor": 0
      },
      "text/plain": [
       "  0%|          | 0/86 [00:00<?, ?it/s]"
      ]
     },
     "metadata": {},
     "output_type": "display_data"
    },
    {
     "data": {
      "application/vnd.jupyter.widget-view+json": {
       "model_id": "",
       "version_major": 2,
       "version_minor": 0
      },
      "text/plain": [
       "  0%|          | 0/86 [00:00<?, ?it/s]"
      ]
     },
     "metadata": {},
     "output_type": "display_data"
    },
    {
     "data": {
      "application/vnd.jupyter.widget-view+json": {
       "model_id": "",
       "version_major": 2,
       "version_minor": 0
      },
      "text/plain": [
       "  0%|          | 0/86 [00:00<?, ?it/s]"
      ]
     },
     "metadata": {},
     "output_type": "display_data"
    },
    {
     "data": {
      "application/vnd.jupyter.widget-view+json": {
       "model_id": "",
       "version_major": 2,
       "version_minor": 0
      },
      "text/plain": [
       "  0%|          | 0/86 [00:00<?, ?it/s]"
      ]
     },
     "metadata": {},
     "output_type": "display_data"
    },
    {
     "data": {
      "application/vnd.jupyter.widget-view+json": {
       "model_id": "",
       "version_major": 2,
       "version_minor": 0
      },
      "text/plain": [
       "  0%|          | 0/86 [00:00<?, ?it/s]"
      ]
     },
     "metadata": {},
     "output_type": "display_data"
    },
    {
     "data": {
      "application/vnd.jupyter.widget-view+json": {
       "model_id": "",
       "version_major": 2,
       "version_minor": 0
      },
      "text/plain": [
       "  0%|          | 0/86 [00:00<?, ?it/s]"
      ]
     },
     "metadata": {},
     "output_type": "display_data"
    },
    {
     "data": {
      "application/vnd.jupyter.widget-view+json": {
       "model_id": "",
       "version_major": 2,
       "version_minor": 0
      },
      "text/plain": [
       "  0%|          | 0/86 [00:00<?, ?it/s]"
      ]
     },
     "metadata": {},
     "output_type": "display_data"
    },
    {
     "data": {
      "application/vnd.jupyter.widget-view+json": {
       "model_id": "",
       "version_major": 2,
       "version_minor": 0
      },
      "text/plain": [
       "  0%|          | 0/86 [00:00<?, ?it/s]"
      ]
     },
     "metadata": {},
     "output_type": "display_data"
    },
    {
     "data": {
      "application/vnd.jupyter.widget-view+json": {
       "model_id": "",
       "version_major": 2,
       "version_minor": 0
      },
      "text/plain": [
       "  0%|          | 0/86 [00:00<?, ?it/s]"
      ]
     },
     "metadata": {},
     "output_type": "display_data"
    },
    {
     "data": {
      "application/vnd.jupyter.widget-view+json": {
       "model_id": "",
       "version_major": 2,
       "version_minor": 0
      },
      "text/plain": [
       "  0%|          | 0/86 [00:00<?, ?it/s]"
      ]
     },
     "metadata": {},
     "output_type": "display_data"
    },
    {
     "data": {
      "application/vnd.jupyter.widget-view+json": {
       "model_id": "",
       "version_major": 2,
       "version_minor": 0
      },
      "text/plain": [
       "  0%|          | 0/86 [00:00<?, ?it/s]"
      ]
     },
     "metadata": {},
     "output_type": "display_data"
    },
    {
     "data": {
      "application/vnd.jupyter.widget-view+json": {
       "model_id": "",
       "version_major": 2,
       "version_minor": 0
      },
      "text/plain": [
       "  0%|          | 0/86 [00:00<?, ?it/s]"
      ]
     },
     "metadata": {},
     "output_type": "display_data"
    },
    {
     "data": {
      "application/vnd.jupyter.widget-view+json": {
       "model_id": "",
       "version_major": 2,
       "version_minor": 0
      },
      "text/plain": [
       "  0%|          | 0/86 [00:00<?, ?it/s]"
      ]
     },
     "metadata": {},
     "output_type": "display_data"
    },
    {
     "data": {
      "application/vnd.jupyter.widget-view+json": {
       "model_id": "",
       "version_major": 2,
       "version_minor": 0
      },
      "text/plain": [
       "  0%|          | 0/86 [00:00<?, ?it/s]"
      ]
     },
     "metadata": {},
     "output_type": "display_data"
    },
    {
     "data": {
      "application/vnd.jupyter.widget-view+json": {
       "model_id": "",
       "version_major": 2,
       "version_minor": 0
      },
      "text/plain": [
       "  0%|          | 0/86 [00:00<?, ?it/s]"
      ]
     },
     "metadata": {},
     "output_type": "display_data"
    },
    {
     "data": {
      "application/vnd.jupyter.widget-view+json": {
       "model_id": "",
       "version_major": 2,
       "version_minor": 0
      },
      "text/plain": [
       "  0%|          | 0/86 [00:00<?, ?it/s]"
      ]
     },
     "metadata": {},
     "output_type": "display_data"
    },
    {
     "data": {
      "application/vnd.jupyter.widget-view+json": {
       "model_id": "",
       "version_major": 2,
       "version_minor": 0
      },
      "text/plain": [
       "  0%|          | 0/86 [00:00<?, ?it/s]"
      ]
     },
     "metadata": {},
     "output_type": "display_data"
    },
    {
     "data": {
      "application/vnd.jupyter.widget-view+json": {
       "model_id": "",
       "version_major": 2,
       "version_minor": 0
      },
      "text/plain": [
       "  0%|          | 0/86 [00:00<?, ?it/s]"
      ]
     },
     "metadata": {},
     "output_type": "display_data"
    },
    {
     "data": {
      "application/vnd.jupyter.widget-view+json": {
       "model_id": "",
       "version_major": 2,
       "version_minor": 0
      },
      "text/plain": [
       "  0%|          | 0/86 [00:00<?, ?it/s]"
      ]
     },
     "metadata": {},
     "output_type": "display_data"
    },
    {
     "data": {
      "application/vnd.jupyter.widget-view+json": {
       "model_id": "",
       "version_major": 2,
       "version_minor": 0
      },
      "text/plain": [
       "  0%|          | 0/86 [00:00<?, ?it/s]"
      ]
     },
     "metadata": {},
     "output_type": "display_data"
    },
    {
     "data": {
      "application/vnd.jupyter.widget-view+json": {
       "model_id": "",
       "version_major": 2,
       "version_minor": 0
      },
      "text/plain": [
       "  0%|          | 0/86 [00:00<?, ?it/s]"
      ]
     },
     "metadata": {},
     "output_type": "display_data"
    },
    {
     "data": {
      "application/vnd.jupyter.widget-view+json": {
       "model_id": "",
       "version_major": 2,
       "version_minor": 0
      },
      "text/plain": [
       "  0%|          | 0/86 [00:00<?, ?it/s]"
      ]
     },
     "metadata": {},
     "output_type": "display_data"
    },
    {
     "data": {
      "application/vnd.jupyter.widget-view+json": {
       "model_id": "",
       "version_major": 2,
       "version_minor": 0
      },
      "text/plain": [
       "  0%|          | 0/86 [00:00<?, ?it/s]"
      ]
     },
     "metadata": {},
     "output_type": "display_data"
    },
    {
     "data": {
      "application/vnd.jupyter.widget-view+json": {
       "model_id": "",
       "version_major": 2,
       "version_minor": 0
      },
      "text/plain": [
       "  0%|          | 0/86 [00:00<?, ?it/s]"
      ]
     },
     "metadata": {},
     "output_type": "display_data"
    },
    {
     "data": {
      "application/vnd.jupyter.widget-view+json": {
       "model_id": "",
       "version_major": 2,
       "version_minor": 0
      },
      "text/plain": [
       "  0%|          | 0/86 [00:00<?, ?it/s]"
      ]
     },
     "metadata": {},
     "output_type": "display_data"
    },
    {
     "data": {
      "application/vnd.jupyter.widget-view+json": {
       "model_id": "",
       "version_major": 2,
       "version_minor": 0
      },
      "text/plain": [
       "  0%|          | 0/86 [00:00<?, ?it/s]"
      ]
     },
     "metadata": {},
     "output_type": "display_data"
    },
    {
     "data": {
      "application/vnd.jupyter.widget-view+json": {
       "model_id": "",
       "version_major": 2,
       "version_minor": 0
      },
      "text/plain": [
       "  0%|          | 0/86 [00:00<?, ?it/s]"
      ]
     },
     "metadata": {},
     "output_type": "display_data"
    },
    {
     "data": {
      "application/vnd.jupyter.widget-view+json": {
       "model_id": "",
       "version_major": 2,
       "version_minor": 0
      },
      "text/plain": [
       "  0%|          | 0/86 [00:00<?, ?it/s]"
      ]
     },
     "metadata": {},
     "output_type": "display_data"
    },
    {
     "data": {
      "application/vnd.jupyter.widget-view+json": {
       "model_id": "",
       "version_major": 2,
       "version_minor": 0
      },
      "text/plain": [
       "  0%|          | 0/86 [00:00<?, ?it/s]"
      ]
     },
     "metadata": {},
     "output_type": "display_data"
    },
    {
     "data": {
      "application/vnd.jupyter.widget-view+json": {
       "model_id": "",
       "version_major": 2,
       "version_minor": 0
      },
      "text/plain": [
       "  0%|          | 0/86 [00:00<?, ?it/s]"
      ]
     },
     "metadata": {},
     "output_type": "display_data"
    },
    {
     "data": {
      "application/vnd.jupyter.widget-view+json": {
       "model_id": "",
       "version_major": 2,
       "version_minor": 0
      },
      "text/plain": [
       "  0%|          | 0/86 [00:00<?, ?it/s]"
      ]
     },
     "metadata": {},
     "output_type": "display_data"
    },
    {
     "data": {
      "application/vnd.jupyter.widget-view+json": {
       "model_id": "",
       "version_major": 2,
       "version_minor": 0
      },
      "text/plain": [
       "  0%|          | 0/86 [00:00<?, ?it/s]"
      ]
     },
     "metadata": {},
     "output_type": "display_data"
    },
    {
     "data": {
      "application/vnd.jupyter.widget-view+json": {
       "model_id": "",
       "version_major": 2,
       "version_minor": 0
      },
      "text/plain": [
       "  0%|          | 0/86 [00:00<?, ?it/s]"
      ]
     },
     "metadata": {},
     "output_type": "display_data"
    },
    {
     "data": {
      "application/vnd.jupyter.widget-view+json": {
       "model_id": "",
       "version_major": 2,
       "version_minor": 0
      },
      "text/plain": [
       "  0%|          | 0/86 [00:00<?, ?it/s]"
      ]
     },
     "metadata": {},
     "output_type": "display_data"
    },
    {
     "data": {
      "application/vnd.jupyter.widget-view+json": {
       "model_id": "",
       "version_major": 2,
       "version_minor": 0
      },
      "text/plain": [
       "  0%|          | 0/86 [00:00<?, ?it/s]"
      ]
     },
     "metadata": {},
     "output_type": "display_data"
    },
    {
     "data": {
      "application/vnd.jupyter.widget-view+json": {
       "model_id": "",
       "version_major": 2,
       "version_minor": 0
      },
      "text/plain": [
       "  0%|          | 0/86 [00:00<?, ?it/s]"
      ]
     },
     "metadata": {},
     "output_type": "display_data"
    },
    {
     "data": {
      "application/vnd.jupyter.widget-view+json": {
       "model_id": "",
       "version_major": 2,
       "version_minor": 0
      },
      "text/plain": [
       "  0%|          | 0/86 [00:00<?, ?it/s]"
      ]
     },
     "metadata": {},
     "output_type": "display_data"
    },
    {
     "data": {
      "application/vnd.jupyter.widget-view+json": {
       "model_id": "",
       "version_major": 2,
       "version_minor": 0
      },
      "text/plain": [
       "  0%|          | 0/86 [00:00<?, ?it/s]"
      ]
     },
     "metadata": {},
     "output_type": "display_data"
    },
    {
     "data": {
      "application/vnd.jupyter.widget-view+json": {
       "model_id": "",
       "version_major": 2,
       "version_minor": 0
      },
      "text/plain": [
       "  0%|          | 0/86 [00:00<?, ?it/s]"
      ]
     },
     "metadata": {},
     "output_type": "display_data"
    },
    {
     "data": {
      "application/vnd.jupyter.widget-view+json": {
       "model_id": "",
       "version_major": 2,
       "version_minor": 0
      },
      "text/plain": [
       "  0%|          | 0/86 [00:00<?, ?it/s]"
      ]
     },
     "metadata": {},
     "output_type": "display_data"
    },
    {
     "data": {
      "application/vnd.jupyter.widget-view+json": {
       "model_id": "",
       "version_major": 2,
       "version_minor": 0
      },
      "text/plain": [
       "  0%|          | 0/86 [00:00<?, ?it/s]"
      ]
     },
     "metadata": {},
     "output_type": "display_data"
    },
    {
     "data": {
      "application/vnd.jupyter.widget-view+json": {
       "model_id": "",
       "version_major": 2,
       "version_minor": 0
      },
      "text/plain": [
       "  0%|          | 0/86 [00:00<?, ?it/s]"
      ]
     },
     "metadata": {},
     "output_type": "display_data"
    },
    {
     "data": {
      "application/vnd.jupyter.widget-view+json": {
       "model_id": "",
       "version_major": 2,
       "version_minor": 0
      },
      "text/plain": [
       "  0%|          | 0/86 [00:00<?, ?it/s]"
      ]
     },
     "metadata": {},
     "output_type": "display_data"
    },
    {
     "data": {
      "application/vnd.jupyter.widget-view+json": {
       "model_id": "",
       "version_major": 2,
       "version_minor": 0
      },
      "text/plain": [
       "  0%|          | 0/86 [00:00<?, ?it/s]"
      ]
     },
     "metadata": {},
     "output_type": "display_data"
    },
    {
     "data": {
      "application/vnd.jupyter.widget-view+json": {
       "model_id": "",
       "version_major": 2,
       "version_minor": 0
      },
      "text/plain": [
       "  0%|          | 0/86 [00:00<?, ?it/s]"
      ]
     },
     "metadata": {},
     "output_type": "display_data"
    },
    {
     "data": {
      "application/vnd.jupyter.widget-view+json": {
       "model_id": "",
       "version_major": 2,
       "version_minor": 0
      },
      "text/plain": [
       "  0%|          | 0/86 [00:00<?, ?it/s]"
      ]
     },
     "metadata": {},
     "output_type": "display_data"
    },
    {
     "data": {
      "application/vnd.jupyter.widget-view+json": {
       "model_id": "",
       "version_major": 2,
       "version_minor": 0
      },
      "text/plain": [
       "  0%|          | 0/86 [00:00<?, ?it/s]"
      ]
     },
     "metadata": {},
     "output_type": "display_data"
    },
    {
     "name": "stdout",
     "output_type": "stream",
     "text": [
      "using Weighbor to infer tree\n",
      "getting new estimate of Q\n",
      "computing distance matrix\n"
     ]
    },
    {
     "data": {
      "application/vnd.jupyter.widget-view+json": {
       "model_id": "",
       "version_major": 2,
       "version_minor": 0
      },
      "text/plain": [
       "  0%|          | 0/86 [00:00<?, ?it/s]"
      ]
     },
     "metadata": {},
     "output_type": "display_data"
    },
    {
     "data": {
      "application/vnd.jupyter.widget-view+json": {
       "model_id": "",
       "version_major": 2,
       "version_minor": 0
      },
      "text/plain": [
       "  0%|          | 0/86 [00:00<?, ?it/s]"
      ]
     },
     "metadata": {},
     "output_type": "display_data"
    },
    {
     "data": {
      "application/vnd.jupyter.widget-view+json": {
       "model_id": "",
       "version_major": 2,
       "version_minor": 0
      },
      "text/plain": [
       "  0%|          | 0/86 [00:00<?, ?it/s]"
      ]
     },
     "metadata": {},
     "output_type": "display_data"
    },
    {
     "data": {
      "application/vnd.jupyter.widget-view+json": {
       "model_id": "",
       "version_major": 2,
       "version_minor": 0
      },
      "text/plain": [
       "  0%|          | 0/86 [00:00<?, ?it/s]"
      ]
     },
     "metadata": {},
     "output_type": "display_data"
    },
    {
     "data": {
      "application/vnd.jupyter.widget-view+json": {
       "model_id": "",
       "version_major": 2,
       "version_minor": 0
      },
      "text/plain": [
       "  0%|          | 0/86 [00:00<?, ?it/s]"
      ]
     },
     "metadata": {},
     "output_type": "display_data"
    },
    {
     "data": {
      "application/vnd.jupyter.widget-view+json": {
       "model_id": "",
       "version_major": 2,
       "version_minor": 0
      },
      "text/plain": [
       "  0%|          | 0/86 [00:00<?, ?it/s]"
      ]
     },
     "metadata": {},
     "output_type": "display_data"
    },
    {
     "data": {
      "application/vnd.jupyter.widget-view+json": {
       "model_id": "",
       "version_major": 2,
       "version_minor": 0
      },
      "text/plain": [
       "  0%|          | 0/86 [00:00<?, ?it/s]"
      ]
     },
     "metadata": {},
     "output_type": "display_data"
    },
    {
     "data": {
      "application/vnd.jupyter.widget-view+json": {
       "model_id": "",
       "version_major": 2,
       "version_minor": 0
      },
      "text/plain": [
       "  0%|          | 0/86 [00:00<?, ?it/s]"
      ]
     },
     "metadata": {},
     "output_type": "display_data"
    },
    {
     "data": {
      "application/vnd.jupyter.widget-view+json": {
       "model_id": "",
       "version_major": 2,
       "version_minor": 0
      },
      "text/plain": [
       "  0%|          | 0/86 [00:00<?, ?it/s]"
      ]
     },
     "metadata": {},
     "output_type": "display_data"
    },
    {
     "data": {
      "application/vnd.jupyter.widget-view+json": {
       "model_id": "",
       "version_major": 2,
       "version_minor": 0
      },
      "text/plain": [
       "  0%|          | 0/86 [00:00<?, ?it/s]"
      ]
     },
     "metadata": {},
     "output_type": "display_data"
    },
    {
     "data": {
      "application/vnd.jupyter.widget-view+json": {
       "model_id": "",
       "version_major": 2,
       "version_minor": 0
      },
      "text/plain": [
       "  0%|          | 0/86 [00:00<?, ?it/s]"
      ]
     },
     "metadata": {},
     "output_type": "display_data"
    },
    {
     "data": {
      "application/vnd.jupyter.widget-view+json": {
       "model_id": "",
       "version_major": 2,
       "version_minor": 0
      },
      "text/plain": [
       "  0%|          | 0/86 [00:00<?, ?it/s]"
      ]
     },
     "metadata": {},
     "output_type": "display_data"
    },
    {
     "data": {
      "application/vnd.jupyter.widget-view+json": {
       "model_id": "",
       "version_major": 2,
       "version_minor": 0
      },
      "text/plain": [
       "  0%|          | 0/86 [00:00<?, ?it/s]"
      ]
     },
     "metadata": {},
     "output_type": "display_data"
    },
    {
     "data": {
      "application/vnd.jupyter.widget-view+json": {
       "model_id": "",
       "version_major": 2,
       "version_minor": 0
      },
      "text/plain": [
       "  0%|          | 0/86 [00:00<?, ?it/s]"
      ]
     },
     "metadata": {},
     "output_type": "display_data"
    },
    {
     "data": {
      "application/vnd.jupyter.widget-view+json": {
       "model_id": "",
       "version_major": 2,
       "version_minor": 0
      },
      "text/plain": [
       "  0%|          | 0/86 [00:00<?, ?it/s]"
      ]
     },
     "metadata": {},
     "output_type": "display_data"
    },
    {
     "data": {
      "application/vnd.jupyter.widget-view+json": {
       "model_id": "",
       "version_major": 2,
       "version_minor": 0
      },
      "text/plain": [
       "  0%|          | 0/86 [00:00<?, ?it/s]"
      ]
     },
     "metadata": {},
     "output_type": "display_data"
    },
    {
     "data": {
      "application/vnd.jupyter.widget-view+json": {
       "model_id": "",
       "version_major": 2,
       "version_minor": 0
      },
      "text/plain": [
       "  0%|          | 0/86 [00:00<?, ?it/s]"
      ]
     },
     "metadata": {},
     "output_type": "display_data"
    },
    {
     "data": {
      "application/vnd.jupyter.widget-view+json": {
       "model_id": "",
       "version_major": 2,
       "version_minor": 0
      },
      "text/plain": [
       "  0%|          | 0/86 [00:00<?, ?it/s]"
      ]
     },
     "metadata": {},
     "output_type": "display_data"
    },
    {
     "data": {
      "application/vnd.jupyter.widget-view+json": {
       "model_id": "",
       "version_major": 2,
       "version_minor": 0
      },
      "text/plain": [
       "  0%|          | 0/86 [00:00<?, ?it/s]"
      ]
     },
     "metadata": {},
     "output_type": "display_data"
    },
    {
     "data": {
      "application/vnd.jupyter.widget-view+json": {
       "model_id": "",
       "version_major": 2,
       "version_minor": 0
      },
      "text/plain": [
       "  0%|          | 0/86 [00:00<?, ?it/s]"
      ]
     },
     "metadata": {},
     "output_type": "display_data"
    },
    {
     "data": {
      "application/vnd.jupyter.widget-view+json": {
       "model_id": "",
       "version_major": 2,
       "version_minor": 0
      },
      "text/plain": [
       "  0%|          | 0/86 [00:00<?, ?it/s]"
      ]
     },
     "metadata": {},
     "output_type": "display_data"
    },
    {
     "data": {
      "application/vnd.jupyter.widget-view+json": {
       "model_id": "",
       "version_major": 2,
       "version_minor": 0
      },
      "text/plain": [
       "  0%|          | 0/86 [00:00<?, ?it/s]"
      ]
     },
     "metadata": {},
     "output_type": "display_data"
    },
    {
     "data": {
      "application/vnd.jupyter.widget-view+json": {
       "model_id": "",
       "version_major": 2,
       "version_minor": 0
      },
      "text/plain": [
       "  0%|          | 0/86 [00:00<?, ?it/s]"
      ]
     },
     "metadata": {},
     "output_type": "display_data"
    },
    {
     "data": {
      "application/vnd.jupyter.widget-view+json": {
       "model_id": "",
       "version_major": 2,
       "version_minor": 0
      },
      "text/plain": [
       "  0%|          | 0/86 [00:00<?, ?it/s]"
      ]
     },
     "metadata": {},
     "output_type": "display_data"
    },
    {
     "data": {
      "application/vnd.jupyter.widget-view+json": {
       "model_id": "",
       "version_major": 2,
       "version_minor": 0
      },
      "text/plain": [
       "  0%|          | 0/86 [00:00<?, ?it/s]"
      ]
     },
     "metadata": {},
     "output_type": "display_data"
    },
    {
     "data": {
      "application/vnd.jupyter.widget-view+json": {
       "model_id": "",
       "version_major": 2,
       "version_minor": 0
      },
      "text/plain": [
       "  0%|          | 0/86 [00:00<?, ?it/s]"
      ]
     },
     "metadata": {},
     "output_type": "display_data"
    },
    {
     "data": {
      "application/vnd.jupyter.widget-view+json": {
       "model_id": "",
       "version_major": 2,
       "version_minor": 0
      },
      "text/plain": [
       "  0%|          | 0/86 [00:00<?, ?it/s]"
      ]
     },
     "metadata": {},
     "output_type": "display_data"
    },
    {
     "data": {
      "application/vnd.jupyter.widget-view+json": {
       "model_id": "",
       "version_major": 2,
       "version_minor": 0
      },
      "text/plain": [
       "  0%|          | 0/86 [00:00<?, ?it/s]"
      ]
     },
     "metadata": {},
     "output_type": "display_data"
    },
    {
     "data": {
      "application/vnd.jupyter.widget-view+json": {
       "model_id": "",
       "version_major": 2,
       "version_minor": 0
      },
      "text/plain": [
       "  0%|          | 0/86 [00:00<?, ?it/s]"
      ]
     },
     "metadata": {},
     "output_type": "display_data"
    },
    {
     "data": {
      "application/vnd.jupyter.widget-view+json": {
       "model_id": "",
       "version_major": 2,
       "version_minor": 0
      },
      "text/plain": [
       "  0%|          | 0/86 [00:00<?, ?it/s]"
      ]
     },
     "metadata": {},
     "output_type": "display_data"
    },
    {
     "data": {
      "application/vnd.jupyter.widget-view+json": {
       "model_id": "",
       "version_major": 2,
       "version_minor": 0
      },
      "text/plain": [
       "  0%|          | 0/86 [00:00<?, ?it/s]"
      ]
     },
     "metadata": {},
     "output_type": "display_data"
    },
    {
     "data": {
      "application/vnd.jupyter.widget-view+json": {
       "model_id": "",
       "version_major": 2,
       "version_minor": 0
      },
      "text/plain": [
       "  0%|          | 0/86 [00:00<?, ?it/s]"
      ]
     },
     "metadata": {},
     "output_type": "display_data"
    },
    {
     "data": {
      "application/vnd.jupyter.widget-view+json": {
       "model_id": "",
       "version_major": 2,
       "version_minor": 0
      },
      "text/plain": [
       "  0%|          | 0/86 [00:00<?, ?it/s]"
      ]
     },
     "metadata": {},
     "output_type": "display_data"
    },
    {
     "data": {
      "application/vnd.jupyter.widget-view+json": {
       "model_id": "",
       "version_major": 2,
       "version_minor": 0
      },
      "text/plain": [
       "  0%|          | 0/86 [00:00<?, ?it/s]"
      ]
     },
     "metadata": {},
     "output_type": "display_data"
    },
    {
     "data": {
      "application/vnd.jupyter.widget-view+json": {
       "model_id": "",
       "version_major": 2,
       "version_minor": 0
      },
      "text/plain": [
       "  0%|          | 0/86 [00:00<?, ?it/s]"
      ]
     },
     "metadata": {},
     "output_type": "display_data"
    },
    {
     "data": {
      "application/vnd.jupyter.widget-view+json": {
       "model_id": "",
       "version_major": 2,
       "version_minor": 0
      },
      "text/plain": [
       "  0%|          | 0/86 [00:00<?, ?it/s]"
      ]
     },
     "metadata": {},
     "output_type": "display_data"
    },
    {
     "data": {
      "application/vnd.jupyter.widget-view+json": {
       "model_id": "",
       "version_major": 2,
       "version_minor": 0
      },
      "text/plain": [
       "  0%|          | 0/86 [00:00<?, ?it/s]"
      ]
     },
     "metadata": {},
     "output_type": "display_data"
    },
    {
     "data": {
      "application/vnd.jupyter.widget-view+json": {
       "model_id": "",
       "version_major": 2,
       "version_minor": 0
      },
      "text/plain": [
       "  0%|          | 0/86 [00:00<?, ?it/s]"
      ]
     },
     "metadata": {},
     "output_type": "display_data"
    },
    {
     "data": {
      "application/vnd.jupyter.widget-view+json": {
       "model_id": "",
       "version_major": 2,
       "version_minor": 0
      },
      "text/plain": [
       "  0%|          | 0/86 [00:00<?, ?it/s]"
      ]
     },
     "metadata": {},
     "output_type": "display_data"
    },
    {
     "data": {
      "application/vnd.jupyter.widget-view+json": {
       "model_id": "",
       "version_major": 2,
       "version_minor": 0
      },
      "text/plain": [
       "  0%|          | 0/86 [00:00<?, ?it/s]"
      ]
     },
     "metadata": {},
     "output_type": "display_data"
    },
    {
     "data": {
      "application/vnd.jupyter.widget-view+json": {
       "model_id": "",
       "version_major": 2,
       "version_minor": 0
      },
      "text/plain": [
       "  0%|          | 0/86 [00:00<?, ?it/s]"
      ]
     },
     "metadata": {},
     "output_type": "display_data"
    },
    {
     "data": {
      "application/vnd.jupyter.widget-view+json": {
       "model_id": "",
       "version_major": 2,
       "version_minor": 0
      },
      "text/plain": [
       "  0%|          | 0/86 [00:00<?, ?it/s]"
      ]
     },
     "metadata": {},
     "output_type": "display_data"
    },
    {
     "data": {
      "application/vnd.jupyter.widget-view+json": {
       "model_id": "",
       "version_major": 2,
       "version_minor": 0
      },
      "text/plain": [
       "  0%|          | 0/86 [00:00<?, ?it/s]"
      ]
     },
     "metadata": {},
     "output_type": "display_data"
    },
    {
     "data": {
      "application/vnd.jupyter.widget-view+json": {
       "model_id": "",
       "version_major": 2,
       "version_minor": 0
      },
      "text/plain": [
       "  0%|          | 0/86 [00:00<?, ?it/s]"
      ]
     },
     "metadata": {},
     "output_type": "display_data"
    },
    {
     "data": {
      "application/vnd.jupyter.widget-view+json": {
       "model_id": "",
       "version_major": 2,
       "version_minor": 0
      },
      "text/plain": [
       "  0%|          | 0/86 [00:00<?, ?it/s]"
      ]
     },
     "metadata": {},
     "output_type": "display_data"
    },
    {
     "data": {
      "application/vnd.jupyter.widget-view+json": {
       "model_id": "",
       "version_major": 2,
       "version_minor": 0
      },
      "text/plain": [
       "  0%|          | 0/86 [00:00<?, ?it/s]"
      ]
     },
     "metadata": {},
     "output_type": "display_data"
    },
    {
     "data": {
      "application/vnd.jupyter.widget-view+json": {
       "model_id": "",
       "version_major": 2,
       "version_minor": 0
      },
      "text/plain": [
       "  0%|          | 0/86 [00:00<?, ?it/s]"
      ]
     },
     "metadata": {},
     "output_type": "display_data"
    },
    {
     "data": {
      "application/vnd.jupyter.widget-view+json": {
       "model_id": "",
       "version_major": 2,
       "version_minor": 0
      },
      "text/plain": [
       "  0%|          | 0/86 [00:00<?, ?it/s]"
      ]
     },
     "metadata": {},
     "output_type": "display_data"
    },
    {
     "data": {
      "application/vnd.jupyter.widget-view+json": {
       "model_id": "",
       "version_major": 2,
       "version_minor": 0
      },
      "text/plain": [
       "  0%|          | 0/86 [00:00<?, ?it/s]"
      ]
     },
     "metadata": {},
     "output_type": "display_data"
    },
    {
     "data": {
      "application/vnd.jupyter.widget-view+json": {
       "model_id": "",
       "version_major": 2,
       "version_minor": 0
      },
      "text/plain": [
       "  0%|          | 0/86 [00:00<?, ?it/s]"
      ]
     },
     "metadata": {},
     "output_type": "display_data"
    },
    {
     "data": {
      "application/vnd.jupyter.widget-view+json": {
       "model_id": "",
       "version_major": 2,
       "version_minor": 0
      },
      "text/plain": [
       "  0%|          | 0/86 [00:00<?, ?it/s]"
      ]
     },
     "metadata": {},
     "output_type": "display_data"
    },
    {
     "data": {
      "application/vnd.jupyter.widget-view+json": {
       "model_id": "",
       "version_major": 2,
       "version_minor": 0
      },
      "text/plain": [
       "  0%|          | 0/86 [00:00<?, ?it/s]"
      ]
     },
     "metadata": {},
     "output_type": "display_data"
    },
    {
     "data": {
      "application/vnd.jupyter.widget-view+json": {
       "model_id": "",
       "version_major": 2,
       "version_minor": 0
      },
      "text/plain": [
       "  0%|          | 0/86 [00:00<?, ?it/s]"
      ]
     },
     "metadata": {},
     "output_type": "display_data"
    },
    {
     "data": {
      "application/vnd.jupyter.widget-view+json": {
       "model_id": "",
       "version_major": 2,
       "version_minor": 0
      },
      "text/plain": [
       "  0%|          | 0/86 [00:00<?, ?it/s]"
      ]
     },
     "metadata": {},
     "output_type": "display_data"
    },
    {
     "data": {
      "application/vnd.jupyter.widget-view+json": {
       "model_id": "",
       "version_major": 2,
       "version_minor": 0
      },
      "text/plain": [
       "  0%|          | 0/86 [00:00<?, ?it/s]"
      ]
     },
     "metadata": {},
     "output_type": "display_data"
    },
    {
     "data": {
      "application/vnd.jupyter.widget-view+json": {
       "model_id": "",
       "version_major": 2,
       "version_minor": 0
      },
      "text/plain": [
       "  0%|          | 0/86 [00:00<?, ?it/s]"
      ]
     },
     "metadata": {},
     "output_type": "display_data"
    },
    {
     "data": {
      "application/vnd.jupyter.widget-view+json": {
       "model_id": "",
       "version_major": 2,
       "version_minor": 0
      },
      "text/plain": [
       "  0%|          | 0/86 [00:00<?, ?it/s]"
      ]
     },
     "metadata": {},
     "output_type": "display_data"
    },
    {
     "data": {
      "application/vnd.jupyter.widget-view+json": {
       "model_id": "",
       "version_major": 2,
       "version_minor": 0
      },
      "text/plain": [
       "  0%|          | 0/86 [00:00<?, ?it/s]"
      ]
     },
     "metadata": {},
     "output_type": "display_data"
    },
    {
     "data": {
      "application/vnd.jupyter.widget-view+json": {
       "model_id": "",
       "version_major": 2,
       "version_minor": 0
      },
      "text/plain": [
       "  0%|          | 0/86 [00:00<?, ?it/s]"
      ]
     },
     "metadata": {},
     "output_type": "display_data"
    },
    {
     "data": {
      "application/vnd.jupyter.widget-view+json": {
       "model_id": "",
       "version_major": 2,
       "version_minor": 0
      },
      "text/plain": [
       "  0%|          | 0/86 [00:00<?, ?it/s]"
      ]
     },
     "metadata": {},
     "output_type": "display_data"
    },
    {
     "data": {
      "application/vnd.jupyter.widget-view+json": {
       "model_id": "",
       "version_major": 2,
       "version_minor": 0
      },
      "text/plain": [
       "  0%|          | 0/86 [00:00<?, ?it/s]"
      ]
     },
     "metadata": {},
     "output_type": "display_data"
    },
    {
     "data": {
      "application/vnd.jupyter.widget-view+json": {
       "model_id": "",
       "version_major": 2,
       "version_minor": 0
      },
      "text/plain": [
       "  0%|          | 0/86 [00:00<?, ?it/s]"
      ]
     },
     "metadata": {},
     "output_type": "display_data"
    },
    {
     "data": {
      "application/vnd.jupyter.widget-view+json": {
       "model_id": "",
       "version_major": 2,
       "version_minor": 0
      },
      "text/plain": [
       "  0%|          | 0/86 [00:00<?, ?it/s]"
      ]
     },
     "metadata": {},
     "output_type": "display_data"
    },
    {
     "data": {
      "application/vnd.jupyter.widget-view+json": {
       "model_id": "",
       "version_major": 2,
       "version_minor": 0
      },
      "text/plain": [
       "  0%|          | 0/86 [00:00<?, ?it/s]"
      ]
     },
     "metadata": {},
     "output_type": "display_data"
    },
    {
     "data": {
      "application/vnd.jupyter.widget-view+json": {
       "model_id": "",
       "version_major": 2,
       "version_minor": 0
      },
      "text/plain": [
       "  0%|          | 0/86 [00:00<?, ?it/s]"
      ]
     },
     "metadata": {},
     "output_type": "display_data"
    },
    {
     "data": {
      "application/vnd.jupyter.widget-view+json": {
       "model_id": "",
       "version_major": 2,
       "version_minor": 0
      },
      "text/plain": [
       "  0%|          | 0/86 [00:00<?, ?it/s]"
      ]
     },
     "metadata": {},
     "output_type": "display_data"
    },
    {
     "data": {
      "application/vnd.jupyter.widget-view+json": {
       "model_id": "",
       "version_major": 2,
       "version_minor": 0
      },
      "text/plain": [
       "  0%|          | 0/86 [00:00<?, ?it/s]"
      ]
     },
     "metadata": {},
     "output_type": "display_data"
    },
    {
     "data": {
      "application/vnd.jupyter.widget-view+json": {
       "model_id": "",
       "version_major": 2,
       "version_minor": 0
      },
      "text/plain": [
       "  0%|          | 0/86 [00:00<?, ?it/s]"
      ]
     },
     "metadata": {},
     "output_type": "display_data"
    },
    {
     "data": {
      "application/vnd.jupyter.widget-view+json": {
       "model_id": "",
       "version_major": 2,
       "version_minor": 0
      },
      "text/plain": [
       "  0%|          | 0/86 [00:00<?, ?it/s]"
      ]
     },
     "metadata": {},
     "output_type": "display_data"
    },
    {
     "data": {
      "application/vnd.jupyter.widget-view+json": {
       "model_id": "",
       "version_major": 2,
       "version_minor": 0
      },
      "text/plain": [
       "  0%|          | 0/86 [00:00<?, ?it/s]"
      ]
     },
     "metadata": {},
     "output_type": "display_data"
    },
    {
     "data": {
      "application/vnd.jupyter.widget-view+json": {
       "model_id": "",
       "version_major": 2,
       "version_minor": 0
      },
      "text/plain": [
       "  0%|          | 0/86 [00:00<?, ?it/s]"
      ]
     },
     "metadata": {},
     "output_type": "display_data"
    },
    {
     "data": {
      "application/vnd.jupyter.widget-view+json": {
       "model_id": "",
       "version_major": 2,
       "version_minor": 0
      },
      "text/plain": [
       "  0%|          | 0/86 [00:00<?, ?it/s]"
      ]
     },
     "metadata": {},
     "output_type": "display_data"
    },
    {
     "data": {
      "application/vnd.jupyter.widget-view+json": {
       "model_id": "",
       "version_major": 2,
       "version_minor": 0
      },
      "text/plain": [
       "  0%|          | 0/86 [00:00<?, ?it/s]"
      ]
     },
     "metadata": {},
     "output_type": "display_data"
    },
    {
     "data": {
      "application/vnd.jupyter.widget-view+json": {
       "model_id": "",
       "version_major": 2,
       "version_minor": 0
      },
      "text/plain": [
       "  0%|          | 0/86 [00:00<?, ?it/s]"
      ]
     },
     "metadata": {},
     "output_type": "display_data"
    },
    {
     "data": {
      "application/vnd.jupyter.widget-view+json": {
       "model_id": "",
       "version_major": 2,
       "version_minor": 0
      },
      "text/plain": [
       "  0%|          | 0/86 [00:00<?, ?it/s]"
      ]
     },
     "metadata": {},
     "output_type": "display_data"
    },
    {
     "data": {
      "application/vnd.jupyter.widget-view+json": {
       "model_id": "",
       "version_major": 2,
       "version_minor": 0
      },
      "text/plain": [
       "  0%|          | 0/86 [00:00<?, ?it/s]"
      ]
     },
     "metadata": {},
     "output_type": "display_data"
    },
    {
     "data": {
      "application/vnd.jupyter.widget-view+json": {
       "model_id": "",
       "version_major": 2,
       "version_minor": 0
      },
      "text/plain": [
       "  0%|          | 0/86 [00:00<?, ?it/s]"
      ]
     },
     "metadata": {},
     "output_type": "display_data"
    },
    {
     "data": {
      "application/vnd.jupyter.widget-view+json": {
       "model_id": "",
       "version_major": 2,
       "version_minor": 0
      },
      "text/plain": [
       "  0%|          | 0/86 [00:00<?, ?it/s]"
      ]
     },
     "metadata": {},
     "output_type": "display_data"
    },
    {
     "data": {
      "application/vnd.jupyter.widget-view+json": {
       "model_id": "",
       "version_major": 2,
       "version_minor": 0
      },
      "text/plain": [
       "  0%|          | 0/86 [00:00<?, ?it/s]"
      ]
     },
     "metadata": {},
     "output_type": "display_data"
    },
    {
     "data": {
      "application/vnd.jupyter.widget-view+json": {
       "model_id": "",
       "version_major": 2,
       "version_minor": 0
      },
      "text/plain": [
       "  0%|          | 0/86 [00:00<?, ?it/s]"
      ]
     },
     "metadata": {},
     "output_type": "display_data"
    },
    {
     "data": {
      "application/vnd.jupyter.widget-view+json": {
       "model_id": "",
       "version_major": 2,
       "version_minor": 0
      },
      "text/plain": [
       "  0%|          | 0/86 [00:00<?, ?it/s]"
      ]
     },
     "metadata": {},
     "output_type": "display_data"
    },
    {
     "data": {
      "application/vnd.jupyter.widget-view+json": {
       "model_id": "",
       "version_major": 2,
       "version_minor": 0
      },
      "text/plain": [
       "  0%|          | 0/86 [00:00<?, ?it/s]"
      ]
     },
     "metadata": {},
     "output_type": "display_data"
    },
    {
     "data": {
      "application/vnd.jupyter.widget-view+json": {
       "model_id": "",
       "version_major": 2,
       "version_minor": 0
      },
      "text/plain": [
       "  0%|          | 0/86 [00:00<?, ?it/s]"
      ]
     },
     "metadata": {},
     "output_type": "display_data"
    },
    {
     "data": {
      "application/vnd.jupyter.widget-view+json": {
       "model_id": "",
       "version_major": 2,
       "version_minor": 0
      },
      "text/plain": [
       "  0%|          | 0/86 [00:00<?, ?it/s]"
      ]
     },
     "metadata": {},
     "output_type": "display_data"
    },
    {
     "data": {
      "application/vnd.jupyter.widget-view+json": {
       "model_id": "",
       "version_major": 2,
       "version_minor": 0
      },
      "text/plain": [
       "  0%|          | 0/86 [00:00<?, ?it/s]"
      ]
     },
     "metadata": {},
     "output_type": "display_data"
    },
    {
     "data": {
      "application/vnd.jupyter.widget-view+json": {
       "model_id": "",
       "version_major": 2,
       "version_minor": 0
      },
      "text/plain": [
       "  0%|          | 0/86 [00:00<?, ?it/s]"
      ]
     },
     "metadata": {},
     "output_type": "display_data"
    },
    {
     "data": {
      "application/vnd.jupyter.widget-view+json": {
       "model_id": "",
       "version_major": 2,
       "version_minor": 0
      },
      "text/plain": [
       "  0%|          | 0/86 [00:00<?, ?it/s]"
      ]
     },
     "metadata": {},
     "output_type": "display_data"
    },
    {
     "name": "stdout",
     "output_type": "stream",
     "text": [
      "using Weighbor to infer tree\n",
      "getting new estimate of Q\n"
     ]
    }
   ],
   "source": [
    "infer_tree(cm,Q)"
   ]
  },
  {
   "cell_type": "code",
   "execution_count": 21,
   "id": "031e77f9",
   "metadata": {},
   "outputs": [
    {
     "data": {
      "text/plain": [
       "0.0"
      ]
     },
     "execution_count": 21,
     "metadata": {},
     "output_type": "execute_result"
    }
   ],
   "source": [
    "np.max(Q_ests[1]-Q_ests[2])"
   ]
  },
  {
   "cell_type": "code",
   "execution_count": 22,
   "id": "c9ff5541",
   "metadata": {},
   "outputs": [
    {
     "name": "stdout",
     "output_type": "stream",
     "text": [
      "\n",
      "         /-42\n",
      "        |\n",
      "        |      /-41\n",
      "        |   /-|\n",
      "        |  |  |   /-40\n",
      "      /-|  |   \\-|\n",
      "     |  |  |     |   /-39\n",
      "     |  |  |      \\-|\n",
      "     |  |  |        |   /-38\n",
      "     |  |  |         \\-|\n",
      "     |  |  |           |   /-37\n",
      "     |   \\-|            \\-|\n",
      "     |     |              |   /-36\n",
      "     |     |               \\-|\n",
      "     |     |                 |   /-35\n",
      "     |     |                  \\-|\n",
      "     |     |                     \\-34\n",
      "     |     |\n",
      "     |     |   /-33\n",
      "     |      \\-|\n",
      "     |        |   /-32\n",
      "     |         \\-|\n",
      "     |           |   /-31\n",
      "     |            \\-|\n",
      "   /-|              |   /-30\n",
      "  |  |               \\-|\n",
      "  |  |                 |   /-29\n",
      "  |  |                  \\-|\n",
      "  |  |                     \\-28\n",
      "  |  |\n",
      "  |  |         /-77\n",
      "  |  |      /-|\n",
      "  |  |     |   \\-78\n",
      "  |  |   /-|\n",
      "  |  |  |  |   /-79\n",
      "  |  |  |   \\-|\n",
      "  |  |  |      \\-80\n",
      "  |  |  |\n",
      "  |  |  |      /-74\n",
      "  |  |  |   /-|\n",
      "  |  |  |  |  |   /-73\n",
      "  |  |  |  |   \\-|\n",
      "  |  |  |  |      \\-75\n",
      "  |   \\-|  |\n",
      "  |     |  |            /-17\n",
      "  |     |  |         /-|\n",
      "  |     |  |        |   \\-16\n",
      "  |     |  |      /-|\n",
      "  |     |  |     |  |   /-15\n",
      "  |     |  |     |   \\-|\n",
      "  |     |  |     |      \\-14\n",
      "  |     |  |     |\n",
      "  |     |  |     |            /-20\n",
      "  |      \\-|     |         /-|\n",
      "  |        |     |        |   \\-23\n",
      "  |        |     |        |\n",
      "  |        |     |      /-|      /-21\n",
      "  |        |   /-|     |  |   /-|\n",
      "  |        |  |  |     |  |  |   \\-22\n",
      "  |        |  |  |     |  |  |\n",
      "  |        |  |  |     |   \\-|      /-18\n",
      "  |        |  |  |     |     |   /-|\n",
      "  |        |  |  |   /-|     |  |   \\-25\n",
      "  |        |  |  |  |  |      \\-|\n",
      "  |        |  |  |  |  |        |   /-27\n",
      "  |        |  |  |  |  |         \\-|\n",
      "  |        |  |  |  |  |            \\-13\n",
      "  |        |  |   \\-|  |\n",
      "  |         \\-|     |  |   /-19\n",
      "  |           |     |   \\-|\n",
      "  |           |     |      \\-24\n",
      "  |           |     |\n",
      "  |           |      \\-26\n",
      "--|           |\n",
      "  |           |      /-12\n",
      "  |           |   /-|\n",
      "  |           |  |  |   /-11\n",
      "  |           |  |   \\-|\n",
      "  |           |  |      \\-10\n",
      "  |           |  |\n",
      "  |            \\-|   /-9\n",
      "  |              |  |\n",
      "  |              |  |         /-8\n",
      "  |              |  |      /-|\n",
      "  |              |  |     |  |   /-6\n",
      "  |              |  |     |   \\-|\n",
      "  |               \\-|     |      \\-5\n",
      "  |                 |   /-|\n",
      "  |                 |  |  |      /-4\n",
      "  |                 |  |  |   /-|\n",
      "  |                 |  |  |  |   \\-3\n",
      "  |                 |  |   \\-|\n",
      "  |                  \\-|     |   /-7\n",
      "  |                    |      \\-|\n",
      "  |                    |        |   /-2\n",
      "  |                    |         \\-|\n",
      "  |                    |            \\-1\n",
      "  |                    |\n",
      "  |                     \\-0\n",
      "  |\n",
      "  |   /-72\n",
      "  |--|\n",
      "  |   \\-60\n",
      "  |\n",
      "  |         /-56\n",
      "  |      /-|\n",
      "  |     |   \\-55\n",
      "  |     |\n",
      "  |   /-|      /-54\n",
      "  |  |  |   /-|\n",
      "  |  |  |  |   \\-53\n",
      "  |  |  |  |\n",
      "  |  |   \\-|      /-52\n",
      "  |  |     |   /-|\n",
      "  |  |     |  |   \\-51\n",
      "  |  |     |  |\n",
      "  |  |      \\-|      /-50\n",
      "  |  |        |   /-|\n",
      "  |  |        |  |   \\-49\n",
      "  |  |        |  |\n",
      "  |  |         \\-|      /-48\n",
      "  |  |           |   /-|\n",
      "  |  |           |  |   \\-47\n",
      "   \\-|           |  |\n",
      "     |            \\-|      /-46\n",
      "     |              |   /-|\n",
      "     |              |  |   \\-45\n",
      "     |               \\-|\n",
      "     |                 |   /-57\n",
      "     |                  \\-|\n",
      "     |                    |   /-44\n",
      "     |                     \\-|\n",
      "     |                        \\-43\n",
      "     |\n",
      "     |      /-82\n",
      "     |   /-|\n",
      "     |  |  |   /-81\n",
      "     |  |   \\-|\n",
      "      \\-|      \\-83\n",
      "        |\n",
      "        |   /-68\n",
      "         \\-|\n",
      "           |   /-71\n",
      "            \\-|\n",
      "              |   /-76\n",
      "               \\-|\n",
      "                 |   /-59\n",
      "                  \\-|\n",
      "                    |   /-58\n",
      "                     \\-|\n",
      "                       |   /-85\n",
      "                        \\-|\n",
      "                          |   /-63\n",
      "                           \\-|\n",
      "                             |   /-61\n",
      "                              \\-|\n",
      "                                |   /-70\n",
      "                                 \\-|\n",
      "                                   |   /-69\n",
      "                                    \\-|\n",
      "                                      |   /-64\n",
      "                                       \\-|\n",
      "                                         |   /-67\n",
      "                                          \\-|\n",
      "                                            |   /-66\n",
      "                                             \\-|\n",
      "                                               |   /-65\n",
      "                                                \\-|\n",
      "                                                  |   /-84\n",
      "                                                   \\-|\n",
      "                                                      \\-62\n",
      "\n",
      "         /-42\n",
      "        |\n",
      "        |      /-41\n",
      "        |   /-|\n",
      "        |  |  |   /-40\n",
      "      /-|  |   \\-|\n",
      "     |  |  |     |   /-39\n",
      "     |  |  |      \\-|\n",
      "     |  |  |        |   /-38\n",
      "     |  |  |         \\-|\n",
      "     |  |  |           |   /-37\n",
      "     |   \\-|            \\-|\n",
      "     |     |              |   /-36\n",
      "     |     |               \\-|\n",
      "     |     |                 |   /-35\n",
      "     |     |                  \\-|\n",
      "     |     |                     \\-34\n",
      "     |     |\n",
      "     |     |   /-33\n",
      "     |      \\-|\n",
      "     |        |   /-32\n",
      "     |         \\-|\n",
      "     |           |   /-31\n",
      "     |            \\-|\n",
      "   /-|              |   /-30\n",
      "  |  |               \\-|\n",
      "  |  |                 |   /-29\n",
      "  |  |                  \\-|\n",
      "  |  |                     \\-28\n",
      "  |  |\n",
      "  |  |         /-77\n",
      "  |  |      /-|\n",
      "  |  |     |   \\-78\n",
      "  |  |   /-|\n",
      "  |  |  |  |   /-79\n",
      "  |  |  |   \\-|\n",
      "  |  |  |      \\-80\n",
      "  |  |  |\n",
      "  |  |  |      /-74\n",
      "  |  |  |   /-|\n",
      "  |  |  |  |  |   /-73\n",
      "  |  |  |  |   \\-|\n",
      "  |  |  |  |      \\-75\n",
      "  |   \\-|  |\n",
      "  |     |  |            /-17\n",
      "  |     |  |         /-|\n",
      "  |     |  |        |   \\-16\n",
      "  |     |  |      /-|\n",
      "  |     |  |     |  |   /-15\n",
      "  |     |  |     |   \\-|\n",
      "  |     |  |     |      \\-14\n",
      "  |     |  |     |\n",
      "  |     |  |     |            /-20\n",
      "  |      \\-|     |         /-|\n",
      "  |        |     |        |   \\-23\n",
      "  |        |     |        |\n",
      "  |        |     |      /-|      /-21\n",
      "  |        |   /-|     |  |   /-|\n",
      "  |        |  |  |     |  |  |   \\-22\n",
      "  |        |  |  |     |  |  |\n",
      "  |        |  |  |     |   \\-|      /-18\n",
      "  |        |  |  |     |     |   /-|\n",
      "  |        |  |  |   /-|     |  |   \\-25\n",
      "  |        |  |  |  |  |      \\-|\n",
      "  |        |  |  |  |  |        |   /-27\n",
      "  |        |  |  |  |  |         \\-|\n",
      "  |        |  |  |  |  |            \\-13\n",
      "  |        |  |   \\-|  |\n",
      "  |         \\-|     |  |   /-19\n",
      "  |           |     |   \\-|\n",
      "  |           |     |      \\-24\n",
      "  |           |     |\n",
      "  |           |      \\-26\n",
      "--|           |\n",
      "  |           |      /-12\n",
      "  |           |   /-|\n",
      "  |           |  |  |   /-11\n",
      "  |           |  |   \\-|\n",
      "  |           |  |      \\-10\n",
      "  |           |  |\n",
      "  |            \\-|   /-9\n",
      "  |              |  |\n",
      "  |              |  |         /-8\n",
      "  |              |  |      /-|\n",
      "  |              |  |     |  |   /-6\n",
      "  |              |  |     |   \\-|\n",
      "  |               \\-|     |      \\-5\n",
      "  |                 |   /-|\n",
      "  |                 |  |  |      /-4\n",
      "  |                 |  |  |   /-|\n",
      "  |                 |  |  |  |   \\-3\n",
      "  |                 |  |   \\-|\n",
      "  |                  \\-|     |   /-7\n",
      "  |                    |      \\-|\n",
      "  |                    |        |   /-2\n",
      "  |                    |         \\-|\n",
      "  |                    |            \\-1\n",
      "  |                    |\n",
      "  |                     \\-0\n",
      "  |\n",
      "  |   /-72\n",
      "  |--|\n",
      "  |   \\-60\n",
      "  |\n",
      "  |         /-56\n",
      "  |      /-|\n",
      "  |     |   \\-55\n",
      "  |     |\n",
      "  |   /-|      /-54\n",
      "  |  |  |   /-|\n",
      "  |  |  |  |   \\-53\n",
      "  |  |  |  |\n",
      "  |  |   \\-|      /-52\n",
      "  |  |     |   /-|\n",
      "  |  |     |  |   \\-51\n",
      "  |  |     |  |\n",
      "  |  |      \\-|      /-50\n",
      "  |  |        |   /-|\n",
      "  |  |        |  |   \\-49\n",
      "  |  |        |  |\n",
      "  |  |         \\-|      /-48\n",
      "  |  |           |   /-|\n",
      "  |  |           |  |   \\-47\n",
      "   \\-|           |  |\n",
      "     |            \\-|      /-46\n",
      "     |              |   /-|\n",
      "     |              |  |   \\-45\n",
      "     |               \\-|\n",
      "     |                 |   /-57\n",
      "     |                  \\-|\n",
      "     |                    |   /-44\n",
      "     |                     \\-|\n",
      "     |                        \\-43\n",
      "     |\n",
      "     |      /-82\n",
      "     |   /-|\n",
      "     |  |  |   /-81\n",
      "     |  |   \\-|\n",
      "      \\-|      \\-83\n",
      "        |\n",
      "        |   /-68\n",
      "         \\-|\n",
      "           |   /-71\n",
      "            \\-|\n",
      "              |   /-76\n",
      "               \\-|\n",
      "                 |   /-59\n",
      "                  \\-|\n",
      "                    |   /-58\n",
      "                     \\-|\n",
      "                       |   /-85\n",
      "                        \\-|\n",
      "                          |   /-63\n",
      "                           \\-|\n",
      "                             |   /-61\n",
      "                              \\-|\n",
      "                                |   /-70\n",
      "                                 \\-|\n",
      "                                   |   /-69\n",
      "                                    \\-|\n",
      "                                      |   /-64\n",
      "                                       \\-|\n",
      "                                         |   /-67\n",
      "                                          \\-|\n",
      "                                            |   /-66\n",
      "                                             \\-|\n",
      "                                               |   /-65\n",
      "                                                \\-|\n",
      "                                                  |   /-84\n",
      "                                                   \\-|\n",
      "                                                      \\-62\n"
     ]
    }
   ],
   "source": [
    "print(trees[0].get_ascii())\n",
    "print(trees[1].get_ascii())"
   ]
  },
  {
   "cell_type": "code",
   "execution_count": 23,
   "id": "f961940b",
   "metadata": {},
   "outputs": [
    {
     "name": "stdout",
     "output_type": "stream",
     "text": [
      "\n",
      "       /-00\n",
      "      |\n",
      "      |          /01000010000-0100000\n",
      "      |         |\n",
      "      |   /0100100    /010010-0100100\n",
      "    /0|  |      |    |\n",
      "   |  |  |      |    |                              /-0100110000\n",
      "   |  |  |       \\01001                    /010011000\n",
      "   |  |  |           |                    |        |          /-01001100010\n",
      "   |  |  |           |                    |         \\0100110001\n",
      "   |  |  |            \\010011010011001001100                  \\-01001100011\n",
      "   |   \\01                                |\n",
      "   |     |                                |                   /-01001100100\n",
      "   |     |                                |         /0100110010\n",
      "   |     |                                 \\010011001         \\-01001100101\n",
      "   |     |                                         |\n",
      "   |     |                                          \\-0100110011\n",
      "   |     |\n",
      "   |      \\-011\n",
      "   |\n",
      "   |                                                          /-10000000000\n",
      "   |                                                /1000000000\n",
      "   |                                       /100000000         \\-10000000001\n",
      "   |                                      |        |\n",
      "   |                        /100000010000000        \\-1000000001\n",
      "   |                       |              |\n",
      "   |                       |               \\-100000001\n",
      "   |                       |\n",
      "   |                  /100000                                 /-10000010000\n",
      "   |                 |     |                        /1000001000\n",
      "   |                 |     |                       |          \\-10000010001\n",
      "   |                 |     |       /10000010100000100\n",
      "   |                 |     |      |                |          /-10000010010\n",
      "   |                 |      \\1000001                \\1000001001\n",
      "   |                 |            |                           \\-10000010011\n",
      "   |                 |            |\n",
      "   |         /100010000            \\10000011100000110-1000001100\n",
      "   |        |        |\n",
      "   |        |        |                              /-1000010000\n",
      "   |        |        |                     /100001000\n",
      "-ROOT       |        |                    |        |          /-10000100010\n",
      "   |        |        |             /10000100        \\1000010001\n",
      "   |        |        |            |       |                   \\-10000100011\n",
      "   |        |        |            |       |\n",
      "   |        |         \\1000011000010       \\100001001-1000010010\n",
      "   |        |                     |\n",
      "   |        |                     |        /-100001010\n",
      "   |        |                     |       |\n",
      "   |        |                      \\10000101                  /-10000101100\n",
      "   |        |                             |         /1000010110\n",
      "   |        |                             |        |          \\-10000101101\n",
      "   |        |                              \\100001011\n",
      "   |        |                                      |          /-10000101110\n",
      "   |        |                                       \\1000010111\n",
      "   |        |                                                 \\-10000101111\n",
      "   |        |\n",
      "   |        |                                                 /-10010000000\n",
      "   |        |                                       /1001000000\n",
      "   |        |                                      |          \\-10010000001\n",
      "   |        |                              /100100000\n",
      "   |        |                             |        |          /-10010000010\n",
      "   |        |                             |         \\1001000001\n",
      "   |        |                      /10010000                  \\-10010000011\n",
      "   |        |                     |       |\n",
      "   |        |                     |       |                   /-10010000100\n",
      "   |        |                     |        \\1001000011001000010\n",
      "   |        |                     |                           \\-10010000101\n",
      "   |        |                     |\n",
      "   |        |               /1001000                          /-10010001000\n",
      "   |        |              |      |                 /1001000100\n",
      "   |        |              |      |                |          \\-10010001001\n",
      "   |        |              |      |        /100100010\n",
      "   |        |              |      |       |        |          /-10010001010\n",
      "   |        |              |      |       |         \\1001000101\n",
      "   |        |              |      |       |                   \\-10010001011\n",
      "    \\1 /10/100             |       \\10010001\n",
      "            |         /100100             |                   /-10010001100\n",
      "            |        |     |              |         /1001000110\n",
      "            |        |     |              |        |          \\-10010001101\n",
      "            |        |     |               \\100100011\n",
      "            |        |     |                       |          /-10010001110\n",
      "            |        |     |                        \\1001000111\n",
      "            |        |     |                                  \\-10010001111\n",
      "            |        |     |\n",
      "            |        |      \\-1001001\n",
      "            |        |\n",
      "            |        |                                        /-10010100000\n",
      "            |        |                              /1001010000\n",
      "            |    /10010                            |          \\-10010100001\n",
      "            |   |    |                     /100101000\n",
      "            |   |    |                    |        |          /-10010100010\n",
      "            |   |    |                    |         \\1001010001\n",
      "            |   |    |                    |                   \\-10010100011\n",
      "            |   |    |             /10010100\n",
      "            |   |    |            |       |                   /-10010100100\n",
      "            |   |    |            |       |         /1001010010\n",
      "            |   |    |            |       |        |          \\-10010100101\n",
      "            |   |    |            |        \\100101001\n",
      "            |   |    |            |                |          /-10010100110\n",
      "            |   |    |            |                 \\1001010011\n",
      "            |   |     \\1001011001010                          \\-10010100111\n",
      "            |   |                 |\n",
      "            |   |                 |                           /-10010101000\n",
      "            |   |                 |                 /1001010100\n",
      "            |   |                 |        /100101010         \\-10010101001\n",
      "            |   |                 |       |        |\n",
      "            |   |                 |       |         \\1001010101-10010101010\n",
      "            |   |                  \\10010101\n",
      "            |   |                         |                   /-10010101100\n",
      "            |   |                         |         /1001010110\n",
      "            |   |                         |        |          \\-10010101101\n",
      "            |   |                          \\100101011\n",
      "            |   |                                  |          /-10010101110\n",
      "            |   |                                   \\1001010111\n",
      "             \\1001                                            \\-10010101111\n",
      "                |\n",
      "                |                                   /-1001100000\n",
      "                |                          /100110000\n",
      "                |                         |        |          /-10011000010\n",
      "                |                  /10011000        \\1001100001\n",
      "                |                 |       |                   \\-10011000011\n",
      "                |                 |       |\n",
      "                |                 |        \\-100110001\n",
      "                |           /1001100\n",
      "                |          |      |                           /-10011001000\n",
      "                |          |      |        /1001100101001100100\n",
      "                |          |      |       |                   \\-10011001001\n",
      "                |          |       \\10011001\n",
      "                |          |              |         /1001100110-10011001100\n",
      "                |     /100110              \\100110011\n",
      "                |    |     |                       |          /-10011001110\n",
      "                |    |     |                        \\1001100111\n",
      "                |    |     |                                  \\-10011001111\n",
      "                |    |     |\n",
      "                |    |     |       /-10011010\n",
      "                |    |     |      |\n",
      "                |    |      \\1001101                          /-10011011000\n",
      "                |    |            |                 /1001101100\n",
      "                |    |            |                |          \\-10011011001\n",
      "                |    |             \\10011011100110110\n",
      "                |    |                             |          /-10011011010\n",
      "                 \\10011                             \\1001101101\n",
      "                     |                                        \\-10011011011\n",
      "                     |\n",
      "                     |                     /1001110001001110000-10011100000\n",
      "                     |             /10011100\n",
      "                     |            |       |         /-1001110010\n",
      "                     |            |        \\100111001\n",
      "                     |      /1001110               |          /-10011100110\n",
      "                     |     |      |                 \\1001110011\n",
      "                     |     |      |                           \\-10011100111\n",
      "                     |     |      |\n",
      "                     |     |       \\10011101-100111010\n",
      "                     |     |\n",
      "                      \\100111                       /1001111000-10011110000\n",
      "                           |               /100111100\n",
      "                           |              |        |          /-10011110010\n",
      "                           |       /10011110        \\1001111001\n",
      "                           |      |       |                   \\-10011110011\n",
      "                           |      |       |\n",
      "                           |      |        \\1001111011001111010-10011110100\n",
      "                            \\1001111\n",
      "                                  |                 /-1001111100\n",
      "                                  |        /100111110\n",
      "                                  |       |        |          /-10011111010\n",
      "                                  |       |         \\1001111101\n",
      "                                   \\10011111                  \\-10011111011\n",
      "                                          |\n",
      "                                          |                   /-10011111100\n",
      "                                           \\1001111111001111110\n",
      "                                                              \\-10011111101\n"
     ]
    }
   ],
   "source": [
    "print(etetree.get_ascii())"
   ]
  },
  {
   "cell_type": "code",
   "execution_count": 24,
   "id": "5690303e",
   "metadata": {},
   "outputs": [],
   "source": [
    "name_dict = dict(zip(new_names,true_names))\n",
    "#name_dict"
   ]
  },
  {
   "cell_type": "code",
   "execution_count": 25,
   "id": "be47c100",
   "metadata": {},
   "outputs": [],
   "source": [
    "tree = trees[1]\n",
    "for node in tree.traverse('postorder'):\n",
    "    if node.name != '':\n",
    "        node.name = name_dict[int(node.name)]"
   ]
  },
  {
   "cell_type": "code",
   "execution_count": 26,
   "id": "72905568",
   "metadata": {},
   "outputs": [
    {
     "name": "stdout",
     "output_type": "stream",
     "text": [
      "\n",
      "         /-1001001\n",
      "        |\n",
      "        |      /-10010001111\n",
      "        |   /-|\n",
      "        |  |  |   /-10010001110\n",
      "      /-|  |   \\-|\n",
      "     |  |  |     |   /-10010001101\n",
      "     |  |  |      \\-|\n",
      "     |  |  |        |   /-10010001100\n",
      "     |  |  |         \\-|\n",
      "     |  |  |           |   /-10010001011\n",
      "     |   \\-|            \\-|\n",
      "     |     |              |   /-10010001010\n",
      "     |     |               \\-|\n",
      "     |     |                 |   /-10010001001\n",
      "     |     |                  \\-|\n",
      "     |     |                     \\-10010001000\n",
      "     |     |\n",
      "     |     |   /-10010000101\n",
      "     |      \\-|\n",
      "     |        |   /-10010000100\n",
      "     |         \\-|\n",
      "     |           |   /-10010000011\n",
      "     |            \\-|\n",
      "   /-|              |   /-10010000010\n",
      "  |  |               \\-|\n",
      "  |  |                 |   /-10010000001\n",
      "  |  |                  \\-|\n",
      "  |  |                     \\-10010000000\n",
      "  |  |\n",
      "  |  |         /-10011110000\n",
      "  |  |      /-|\n",
      "  |  |     |   \\-10011110010\n",
      "  |  |   /-|\n",
      "  |  |  |  |   /-10011110011\n",
      "  |  |  |   \\-|\n",
      "  |  |  |      \\-10011110100\n",
      "  |  |  |\n",
      "  |  |  |      /-10011100110\n",
      "  |  |  |   /-|\n",
      "  |  |  |  |  |   /-1001110010\n",
      "  |  |  |  |   \\-|\n",
      "  |  |  |  |      \\-10011100111\n",
      "  |   \\-|  |\n",
      "  |     |  |            /-10000010011\n",
      "  |     |  |         /-|\n",
      "  |     |  |        |   \\-10000010010\n",
      "  |     |  |      /-|\n",
      "  |     |  |     |  |   /-10000010001\n",
      "  |     |  |     |   \\-|\n",
      "  |     |  |     |      \\-10000010000\n",
      "  |     |  |     |\n",
      "  |     |  |     |            /-10000100010\n",
      "  |      \\-|     |         /-|\n",
      "  |        |     |        |   \\-100001010\n",
      "  |        |     |        |\n",
      "  |        |     |      /-|      /-10000100011\n",
      "  |        |   /-|     |  |   /-|\n",
      "  |        |  |  |     |  |  |   \\-1000010010\n",
      "  |        |  |  |     |  |  |\n",
      "  |        |  |  |     |   \\-|      /-1000001100\n",
      "  |        |  |  |     |     |   /-|\n",
      "  |        |  |  |   /-|     |  |   \\-10000101101\n",
      "  |        |  |  |  |  |      \\-|\n",
      "  |        |  |  |  |  |        |   /-10000101111\n",
      "  |        |  |  |  |  |         \\-|\n",
      "  |        |  |  |  |  |            \\-100000001\n",
      "  |        |  |   \\-|  |\n",
      "  |         \\-|     |  |   /-1000010000\n",
      "  |           |     |   \\-|\n",
      "  |           |     |      \\-10000101100\n",
      "  |           |     |\n",
      "  |           |      \\-10000101110\n",
      "--|           |\n",
      "  |           |      /-1000000001\n",
      "  |           |   /-|\n",
      "  |           |  |  |   /-10000000001\n",
      "  |           |  |   \\-|\n",
      "  |           |  |      \\-10000000000\n",
      "  |           |  |\n",
      "  |            \\-|   /-011\n",
      "  |              |  |\n",
      "  |              |  |         /-0100110011\n",
      "  |              |  |      /-|\n",
      "  |              |  |     |  |   /-01001100100\n",
      "  |              |  |     |   \\-|\n",
      "  |               \\-|     |      \\-01001100011\n",
      "  |                 |   /-|\n",
      "  |                 |  |  |      /-01001100010\n",
      "  |                 |  |  |   /-|\n",
      "  |                 |  |  |  |   \\-0100110000\n",
      "  |                 |  |   \\-|\n",
      "  |                  \\-|     |   /-01001100101\n",
      "  |                    |      \\-|\n",
      "  |                    |        |   /-0100100\n",
      "  |                    |         \\-|\n",
      "  |                    |            \\-0100000\n",
      "  |                    |\n",
      "  |                     \\-00\n",
      "  |\n",
      "  |   /-10011100000\n",
      "  |--|\n",
      "  |   \\-10011000011\n",
      "  |\n",
      "  |         /-10010101110\n",
      "  |      /-|\n",
      "  |     |   \\-10010101101\n",
      "  |     |\n",
      "  |   /-|      /-10010101100\n",
      "  |  |  |   /-|\n",
      "  |  |  |  |   \\-10010101010\n",
      "  |  |  |  |\n",
      "  |  |   \\-|      /-10010101001\n",
      "  |  |     |   /-|\n",
      "  |  |     |  |   \\-10010101000\n",
      "  |  |     |  |\n",
      "  |  |      \\-|      /-10010100111\n",
      "  |  |        |   /-|\n",
      "  |  |        |  |   \\-10010100110\n",
      "  |  |        |  |\n",
      "  |  |         \\-|      /-10010100101\n",
      "  |  |           |   /-|\n",
      "  |  |           |  |   \\-10010100100\n",
      "   \\-|           |  |\n",
      "     |            \\-|      /-10010100011\n",
      "     |              |   /-|\n",
      "     |              |  |   \\-10010100010\n",
      "     |               \\-|\n",
      "     |                 |   /-10010101111\n",
      "     |                  \\-|\n",
      "     |                    |   /-10010100001\n",
      "     |                     \\-|\n",
      "     |                        \\-10010100000\n",
      "     |\n",
      "     |      /-10011111010\n",
      "     |   /-|\n",
      "     |  |  |   /-1001111100\n",
      "     |  |   \\-|\n",
      "      \\-|      \\-10011111011\n",
      "        |\n",
      "        |   /-10011011000\n",
      "         \\-|\n",
      "           |   /-10011011011\n",
      "            \\-|\n",
      "              |   /-100111010\n",
      "               \\-|\n",
      "                 |   /-10011000010\n",
      "                  \\-|\n",
      "                    |   /-1001100000\n",
      "                     \\-|\n",
      "                       |   /-10011111101\n",
      "                        \\-|\n",
      "                          |   /-10011001001\n",
      "                           \\-|\n",
      "                             |   /-100110001\n",
      "                              \\-|\n",
      "                                |   /-10011011010\n",
      "                                 \\-|\n",
      "                                   |   /-10011011001\n",
      "                                    \\-|\n",
      "                                      |   /-10011001100\n",
      "                                       \\-|\n",
      "                                         |   /-10011010\n",
      "                                          \\-|\n",
      "                                            |   /-10011001111\n",
      "                                             \\-|\n",
      "                                               |   /-10011001110\n",
      "                                                \\-|\n",
      "                                                  |   /-10011111100\n",
      "                                                   \\-|\n",
      "                                                      \\-10011001000\n"
     ]
    }
   ],
   "source": [
    "print(tree.get_ascii())"
   ]
  },
  {
   "cell_type": "code",
   "execution_count": null,
   "id": "2471a6c0",
   "metadata": {},
   "outputs": [],
   "source": []
  }
 ],
 "metadata": {
  "kernelspec": {
   "display_name": "Python 3",
   "language": "python",
   "name": "python3"
  },
  "language_info": {
   "codemirror_mode": {
    "name": "ipython",
    "version": 3
   },
   "file_extension": ".py",
   "mimetype": "text/x-python",
   "name": "python",
   "nbconvert_exporter": "python",
   "pygments_lexer": "ipython3",
   "version": "3.9.5"
  }
 },
 "nbformat": 4,
 "nbformat_minor": 5
}
